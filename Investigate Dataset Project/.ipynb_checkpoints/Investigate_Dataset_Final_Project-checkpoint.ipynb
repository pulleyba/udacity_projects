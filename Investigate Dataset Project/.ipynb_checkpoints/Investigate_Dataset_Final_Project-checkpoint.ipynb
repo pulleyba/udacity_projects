{
 "cells": [
  {
   "cell_type": "markdown",
   "metadata": {},
   "source": [
    "\n",
    "# Project: Investigating Movie Data\n",
    "\n",
    "## Table of Contents\n",
    "<ul>\n",
    "<li><a href=\"#intro\">Introduction</a></li>\n",
    "<li><a href=\"#wrangling\">Data Wrangling</a></li>\n",
    "<li><a href=\"#eda\">Exploratory Data Analysis</a></li>\n",
    "<li><a href=\"#conclusions\">Conclusions</a></li>\n",
    "<li><a href=\"#limitations\">Limitations</a></li>\n",
    "</ul>"
   ]
  },
  {
   "cell_type": "markdown",
   "metadata": {},
   "source": [
    "<a id='intro'></a>\n",
    "## Introduction\n",
    "\n",
    "> The dataset is from The Movie Database (TMDb) which is a collection of information from about 10,000 movies. Information includes, title, cast, director, user ratings, revenue, budget, genre, release date, etc. The investigation will explore revenue and how they are affected by genres, popularity, ratings, etc. "
   ]
  },
  {
   "cell_type": "code",
   "execution_count": 1,
   "metadata": {},
   "outputs": [],
   "source": [
    "\n",
    "import pandas as pd\n",
    "import matplotlib.pyplot as plt\n",
    "import numpy as np\n",
    "import seaborn as sns\n",
    "%matplotlib inline\n"
   ]
  },
  {
   "cell_type": "markdown",
   "metadata": {},
   "source": [
    "<a id='wrangling'></a>\n",
    "## Data Wrangling\n",
    "\n",
    "\n",
    "### General Properties"
   ]
  },
  {
   "cell_type": "code",
   "execution_count": 2,
   "metadata": {},
   "outputs": [
    {
     "data": {
      "text/html": [
       "<div>\n",
       "<style scoped>\n",
       "    .dataframe tbody tr th:only-of-type {\n",
       "        vertical-align: middle;\n",
       "    }\n",
       "\n",
       "    .dataframe tbody tr th {\n",
       "        vertical-align: top;\n",
       "    }\n",
       "\n",
       "    .dataframe thead th {\n",
       "        text-align: right;\n",
       "    }\n",
       "</style>\n",
       "<table border=\"1\" class=\"dataframe\">\n",
       "  <thead>\n",
       "    <tr style=\"text-align: right;\">\n",
       "      <th></th>\n",
       "      <th>id</th>\n",
       "      <th>imdb_id</th>\n",
       "      <th>popularity</th>\n",
       "      <th>budget</th>\n",
       "      <th>revenue</th>\n",
       "      <th>original_title</th>\n",
       "      <th>cast</th>\n",
       "      <th>homepage</th>\n",
       "      <th>director</th>\n",
       "      <th>tagline</th>\n",
       "      <th>...</th>\n",
       "      <th>overview</th>\n",
       "      <th>runtime</th>\n",
       "      <th>genres</th>\n",
       "      <th>production_companies</th>\n",
       "      <th>release_date</th>\n",
       "      <th>vote_count</th>\n",
       "      <th>vote_average</th>\n",
       "      <th>release_year</th>\n",
       "      <th>budget_adj</th>\n",
       "      <th>revenue_adj</th>\n",
       "    </tr>\n",
       "  </thead>\n",
       "  <tbody>\n",
       "    <tr>\n",
       "      <th>0</th>\n",
       "      <td>135397</td>\n",
       "      <td>tt0369610</td>\n",
       "      <td>32.985763</td>\n",
       "      <td>150000000</td>\n",
       "      <td>1513528810</td>\n",
       "      <td>Jurassic World</td>\n",
       "      <td>Chris Pratt|Bryce Dallas Howard|Irrfan Khan|Vi...</td>\n",
       "      <td>http://www.jurassicworld.com/</td>\n",
       "      <td>Colin Trevorrow</td>\n",
       "      <td>The park is open.</td>\n",
       "      <td>...</td>\n",
       "      <td>Twenty-two years after the events of Jurassic ...</td>\n",
       "      <td>124</td>\n",
       "      <td>Action|Adventure|Science Fiction|Thriller</td>\n",
       "      <td>Universal Studios|Amblin Entertainment|Legenda...</td>\n",
       "      <td>6/9/15</td>\n",
       "      <td>5562</td>\n",
       "      <td>6.5</td>\n",
       "      <td>2015</td>\n",
       "      <td>137999939.3</td>\n",
       "      <td>1.392446e+09</td>\n",
       "    </tr>\n",
       "    <tr>\n",
       "      <th>1</th>\n",
       "      <td>76341</td>\n",
       "      <td>tt1392190</td>\n",
       "      <td>28.419936</td>\n",
       "      <td>150000000</td>\n",
       "      <td>378436354</td>\n",
       "      <td>Mad Max: Fury Road</td>\n",
       "      <td>Tom Hardy|Charlize Theron|Hugh Keays-Byrne|Nic...</td>\n",
       "      <td>http://www.madmaxmovie.com/</td>\n",
       "      <td>George Miller</td>\n",
       "      <td>What a Lovely Day.</td>\n",
       "      <td>...</td>\n",
       "      <td>An apocalyptic story set in the furthest reach...</td>\n",
       "      <td>120</td>\n",
       "      <td>Action|Adventure|Science Fiction|Thriller</td>\n",
       "      <td>Village Roadshow Pictures|Kennedy Miller Produ...</td>\n",
       "      <td>5/13/15</td>\n",
       "      <td>6185</td>\n",
       "      <td>7.1</td>\n",
       "      <td>2015</td>\n",
       "      <td>137999939.3</td>\n",
       "      <td>3.481613e+08</td>\n",
       "    </tr>\n",
       "    <tr>\n",
       "      <th>2</th>\n",
       "      <td>262500</td>\n",
       "      <td>tt2908446</td>\n",
       "      <td>13.112507</td>\n",
       "      <td>110000000</td>\n",
       "      <td>295238201</td>\n",
       "      <td>Insurgent</td>\n",
       "      <td>Shailene Woodley|Theo James|Kate Winslet|Ansel...</td>\n",
       "      <td>http://www.thedivergentseries.movie/#insurgent</td>\n",
       "      <td>Robert Schwentke</td>\n",
       "      <td>One Choice Can Destroy You</td>\n",
       "      <td>...</td>\n",
       "      <td>Beatrice Prior must confront her inner demons ...</td>\n",
       "      <td>119</td>\n",
       "      <td>Adventure|Science Fiction|Thriller</td>\n",
       "      <td>Summit Entertainment|Mandeville Films|Red Wago...</td>\n",
       "      <td>3/18/15</td>\n",
       "      <td>2480</td>\n",
       "      <td>6.3</td>\n",
       "      <td>2015</td>\n",
       "      <td>101199955.5</td>\n",
       "      <td>2.716190e+08</td>\n",
       "    </tr>\n",
       "    <tr>\n",
       "      <th>3</th>\n",
       "      <td>140607</td>\n",
       "      <td>tt2488496</td>\n",
       "      <td>11.173104</td>\n",
       "      <td>200000000</td>\n",
       "      <td>2068178225</td>\n",
       "      <td>Star Wars: The Force Awakens</td>\n",
       "      <td>Harrison Ford|Mark Hamill|Carrie Fisher|Adam D...</td>\n",
       "      <td>http://www.starwars.com/films/star-wars-episod...</td>\n",
       "      <td>J.J. Abrams</td>\n",
       "      <td>Every generation has a story.</td>\n",
       "      <td>...</td>\n",
       "      <td>Thirty years after defeating the Galactic Empi...</td>\n",
       "      <td>136</td>\n",
       "      <td>Action|Adventure|Science Fiction|Fantasy</td>\n",
       "      <td>Lucasfilm|Truenorth Productions|Bad Robot</td>\n",
       "      <td>12/15/15</td>\n",
       "      <td>5292</td>\n",
       "      <td>7.5</td>\n",
       "      <td>2015</td>\n",
       "      <td>183999919.0</td>\n",
       "      <td>1.902723e+09</td>\n",
       "    </tr>\n",
       "    <tr>\n",
       "      <th>4</th>\n",
       "      <td>168259</td>\n",
       "      <td>tt2820852</td>\n",
       "      <td>9.335014</td>\n",
       "      <td>190000000</td>\n",
       "      <td>1506249360</td>\n",
       "      <td>Furious 7</td>\n",
       "      <td>Vin Diesel|Paul Walker|Jason Statham|Michelle ...</td>\n",
       "      <td>http://www.furious7.com/</td>\n",
       "      <td>James Wan</td>\n",
       "      <td>Vengeance Hits Home</td>\n",
       "      <td>...</td>\n",
       "      <td>Deckard Shaw seeks revenge against Dominic Tor...</td>\n",
       "      <td>137</td>\n",
       "      <td>Action|Crime|Thriller</td>\n",
       "      <td>Universal Pictures|Original Film|Media Rights ...</td>\n",
       "      <td>4/1/15</td>\n",
       "      <td>2947</td>\n",
       "      <td>7.3</td>\n",
       "      <td>2015</td>\n",
       "      <td>174799923.1</td>\n",
       "      <td>1.385749e+09</td>\n",
       "    </tr>\n",
       "  </tbody>\n",
       "</table>\n",
       "<p>5 rows × 21 columns</p>\n",
       "</div>"
      ],
      "text/plain": [
       "       id    imdb_id  popularity     budget     revenue  \\\n",
       "0  135397  tt0369610   32.985763  150000000  1513528810   \n",
       "1   76341  tt1392190   28.419936  150000000   378436354   \n",
       "2  262500  tt2908446   13.112507  110000000   295238201   \n",
       "3  140607  tt2488496   11.173104  200000000  2068178225   \n",
       "4  168259  tt2820852    9.335014  190000000  1506249360   \n",
       "\n",
       "                 original_title  \\\n",
       "0                Jurassic World   \n",
       "1            Mad Max: Fury Road   \n",
       "2                     Insurgent   \n",
       "3  Star Wars: The Force Awakens   \n",
       "4                     Furious 7   \n",
       "\n",
       "                                                cast  \\\n",
       "0  Chris Pratt|Bryce Dallas Howard|Irrfan Khan|Vi...   \n",
       "1  Tom Hardy|Charlize Theron|Hugh Keays-Byrne|Nic...   \n",
       "2  Shailene Woodley|Theo James|Kate Winslet|Ansel...   \n",
       "3  Harrison Ford|Mark Hamill|Carrie Fisher|Adam D...   \n",
       "4  Vin Diesel|Paul Walker|Jason Statham|Michelle ...   \n",
       "\n",
       "                                            homepage          director  \\\n",
       "0                      http://www.jurassicworld.com/   Colin Trevorrow   \n",
       "1                        http://www.madmaxmovie.com/     George Miller   \n",
       "2     http://www.thedivergentseries.movie/#insurgent  Robert Schwentke   \n",
       "3  http://www.starwars.com/films/star-wars-episod...       J.J. Abrams   \n",
       "4                           http://www.furious7.com/         James Wan   \n",
       "\n",
       "                         tagline      ...       \\\n",
       "0              The park is open.      ...        \n",
       "1             What a Lovely Day.      ...        \n",
       "2     One Choice Can Destroy You      ...        \n",
       "3  Every generation has a story.      ...        \n",
       "4            Vengeance Hits Home      ...        \n",
       "\n",
       "                                            overview runtime  \\\n",
       "0  Twenty-two years after the events of Jurassic ...     124   \n",
       "1  An apocalyptic story set in the furthest reach...     120   \n",
       "2  Beatrice Prior must confront her inner demons ...     119   \n",
       "3  Thirty years after defeating the Galactic Empi...     136   \n",
       "4  Deckard Shaw seeks revenge against Dominic Tor...     137   \n",
       "\n",
       "                                      genres  \\\n",
       "0  Action|Adventure|Science Fiction|Thriller   \n",
       "1  Action|Adventure|Science Fiction|Thriller   \n",
       "2         Adventure|Science Fiction|Thriller   \n",
       "3   Action|Adventure|Science Fiction|Fantasy   \n",
       "4                      Action|Crime|Thriller   \n",
       "\n",
       "                                production_companies release_date vote_count  \\\n",
       "0  Universal Studios|Amblin Entertainment|Legenda...       6/9/15       5562   \n",
       "1  Village Roadshow Pictures|Kennedy Miller Produ...      5/13/15       6185   \n",
       "2  Summit Entertainment|Mandeville Films|Red Wago...      3/18/15       2480   \n",
       "3          Lucasfilm|Truenorth Productions|Bad Robot     12/15/15       5292   \n",
       "4  Universal Pictures|Original Film|Media Rights ...       4/1/15       2947   \n",
       "\n",
       "   vote_average  release_year   budget_adj   revenue_adj  \n",
       "0           6.5          2015  137999939.3  1.392446e+09  \n",
       "1           7.1          2015  137999939.3  3.481613e+08  \n",
       "2           6.3          2015  101199955.5  2.716190e+08  \n",
       "3           7.5          2015  183999919.0  1.902723e+09  \n",
       "4           7.3          2015  174799923.1  1.385749e+09  \n",
       "\n",
       "[5 rows x 21 columns]"
      ]
     },
     "execution_count": 2,
     "metadata": {},
     "output_type": "execute_result"
    }
   ],
   "source": [
    "df_movie = pd.read_csv('tmdb_movies.csv')\n",
    "df_movie.head()"
   ]
  },
  {
   "cell_type": "code",
   "execution_count": 3,
   "metadata": {
    "scrolled": true
   },
   "outputs": [
    {
     "data": {
      "text/html": [
       "<div>\n",
       "<style scoped>\n",
       "    .dataframe tbody tr th:only-of-type {\n",
       "        vertical-align: middle;\n",
       "    }\n",
       "\n",
       "    .dataframe tbody tr th {\n",
       "        vertical-align: top;\n",
       "    }\n",
       "\n",
       "    .dataframe thead th {\n",
       "        text-align: right;\n",
       "    }\n",
       "</style>\n",
       "<table border=\"1\" class=\"dataframe\">\n",
       "  <thead>\n",
       "    <tr style=\"text-align: right;\">\n",
       "      <th></th>\n",
       "      <th>id</th>\n",
       "      <th>popularity</th>\n",
       "      <th>budget</th>\n",
       "      <th>revenue</th>\n",
       "      <th>runtime</th>\n",
       "      <th>vote_count</th>\n",
       "      <th>vote_average</th>\n",
       "      <th>release_year</th>\n",
       "      <th>budget_adj</th>\n",
       "      <th>revenue_adj</th>\n",
       "    </tr>\n",
       "  </thead>\n",
       "  <tbody>\n",
       "    <tr>\n",
       "      <th>count</th>\n",
       "      <td>10866.000000</td>\n",
       "      <td>10866.000000</td>\n",
       "      <td>1.086600e+04</td>\n",
       "      <td>1.086600e+04</td>\n",
       "      <td>10866.000000</td>\n",
       "      <td>10866.000000</td>\n",
       "      <td>10866.000000</td>\n",
       "      <td>10866.000000</td>\n",
       "      <td>1.086600e+04</td>\n",
       "      <td>1.086600e+04</td>\n",
       "    </tr>\n",
       "    <tr>\n",
       "      <th>mean</th>\n",
       "      <td>66064.177434</td>\n",
       "      <td>0.646441</td>\n",
       "      <td>1.462570e+07</td>\n",
       "      <td>3.982332e+07</td>\n",
       "      <td>102.070863</td>\n",
       "      <td>217.389748</td>\n",
       "      <td>5.974922</td>\n",
       "      <td>2001.322658</td>\n",
       "      <td>1.755104e+07</td>\n",
       "      <td>5.136436e+07</td>\n",
       "    </tr>\n",
       "    <tr>\n",
       "      <th>std</th>\n",
       "      <td>92130.136561</td>\n",
       "      <td>1.000185</td>\n",
       "      <td>3.091321e+07</td>\n",
       "      <td>1.170035e+08</td>\n",
       "      <td>31.381405</td>\n",
       "      <td>575.619058</td>\n",
       "      <td>0.935142</td>\n",
       "      <td>12.812941</td>\n",
       "      <td>3.430616e+07</td>\n",
       "      <td>1.446325e+08</td>\n",
       "    </tr>\n",
       "    <tr>\n",
       "      <th>min</th>\n",
       "      <td>5.000000</td>\n",
       "      <td>0.000065</td>\n",
       "      <td>0.000000e+00</td>\n",
       "      <td>0.000000e+00</td>\n",
       "      <td>0.000000</td>\n",
       "      <td>10.000000</td>\n",
       "      <td>1.500000</td>\n",
       "      <td>1960.000000</td>\n",
       "      <td>0.000000e+00</td>\n",
       "      <td>0.000000e+00</td>\n",
       "    </tr>\n",
       "    <tr>\n",
       "      <th>25%</th>\n",
       "      <td>10596.250000</td>\n",
       "      <td>0.207583</td>\n",
       "      <td>0.000000e+00</td>\n",
       "      <td>0.000000e+00</td>\n",
       "      <td>90.000000</td>\n",
       "      <td>17.000000</td>\n",
       "      <td>5.400000</td>\n",
       "      <td>1995.000000</td>\n",
       "      <td>0.000000e+00</td>\n",
       "      <td>0.000000e+00</td>\n",
       "    </tr>\n",
       "    <tr>\n",
       "      <th>50%</th>\n",
       "      <td>20669.000000</td>\n",
       "      <td>0.383856</td>\n",
       "      <td>0.000000e+00</td>\n",
       "      <td>0.000000e+00</td>\n",
       "      <td>99.000000</td>\n",
       "      <td>38.000000</td>\n",
       "      <td>6.000000</td>\n",
       "      <td>2006.000000</td>\n",
       "      <td>0.000000e+00</td>\n",
       "      <td>0.000000e+00</td>\n",
       "    </tr>\n",
       "    <tr>\n",
       "      <th>75%</th>\n",
       "      <td>75610.000000</td>\n",
       "      <td>0.713817</td>\n",
       "      <td>1.500000e+07</td>\n",
       "      <td>2.400000e+07</td>\n",
       "      <td>111.000000</td>\n",
       "      <td>145.750000</td>\n",
       "      <td>6.600000</td>\n",
       "      <td>2011.000000</td>\n",
       "      <td>2.085325e+07</td>\n",
       "      <td>3.369710e+07</td>\n",
       "    </tr>\n",
       "    <tr>\n",
       "      <th>max</th>\n",
       "      <td>417859.000000</td>\n",
       "      <td>32.985763</td>\n",
       "      <td>4.250000e+08</td>\n",
       "      <td>2.781506e+09</td>\n",
       "      <td>900.000000</td>\n",
       "      <td>9767.000000</td>\n",
       "      <td>9.200000</td>\n",
       "      <td>2015.000000</td>\n",
       "      <td>4.250000e+08</td>\n",
       "      <td>2.827124e+09</td>\n",
       "    </tr>\n",
       "  </tbody>\n",
       "</table>\n",
       "</div>"
      ],
      "text/plain": [
       "                  id    popularity        budget       revenue       runtime  \\\n",
       "count   10866.000000  10866.000000  1.086600e+04  1.086600e+04  10866.000000   \n",
       "mean    66064.177434      0.646441  1.462570e+07  3.982332e+07    102.070863   \n",
       "std     92130.136561      1.000185  3.091321e+07  1.170035e+08     31.381405   \n",
       "min         5.000000      0.000065  0.000000e+00  0.000000e+00      0.000000   \n",
       "25%     10596.250000      0.207583  0.000000e+00  0.000000e+00     90.000000   \n",
       "50%     20669.000000      0.383856  0.000000e+00  0.000000e+00     99.000000   \n",
       "75%     75610.000000      0.713817  1.500000e+07  2.400000e+07    111.000000   \n",
       "max    417859.000000     32.985763  4.250000e+08  2.781506e+09    900.000000   \n",
       "\n",
       "         vote_count  vote_average  release_year    budget_adj   revenue_adj  \n",
       "count  10866.000000  10866.000000  10866.000000  1.086600e+04  1.086600e+04  \n",
       "mean     217.389748      5.974922   2001.322658  1.755104e+07  5.136436e+07  \n",
       "std      575.619058      0.935142     12.812941  3.430616e+07  1.446325e+08  \n",
       "min       10.000000      1.500000   1960.000000  0.000000e+00  0.000000e+00  \n",
       "25%       17.000000      5.400000   1995.000000  0.000000e+00  0.000000e+00  \n",
       "50%       38.000000      6.000000   2006.000000  0.000000e+00  0.000000e+00  \n",
       "75%      145.750000      6.600000   2011.000000  2.085325e+07  3.369710e+07  \n",
       "max     9767.000000      9.200000   2015.000000  4.250000e+08  2.827124e+09  "
      ]
     },
     "execution_count": 3,
     "metadata": {},
     "output_type": "execute_result"
    }
   ],
   "source": [
    "df_movie.describe()"
   ]
  },
  {
   "cell_type": "markdown",
   "metadata": {},
   "source": [
    "* So initially we see the counts for each of the numerical data has the same which is 10866 so there isn't any missing data for those columns. \n",
    "* The minimum for budget, revenue, budget_adj, and revenue_adj is 0 which would probably indicate the data maybe was not available considering I don't think a movie could be made without funds or would not have garnered any revenue. These will be investigated.\n",
    "* The minimum for runtime is 0 as well which probably indicates an issue in data because movies have to have a runtime to exist. \n",
    "* The vote_average is logical because the scale is from 1-10 and the minimum and maximum are within those ranges with the mean being 5.975922 which is mostly centered. \n",
    "* The earliest release year is 1960 and latest is 2015 which is around when the dataset was created so that follows logic, with the mean release year being 2001. \n",
    "* The popularity rating seems skewed because the maximum is 32.985763 but the mean is 0.646441, so this will need further investigation. "
   ]
  },
  {
   "cell_type": "code",
   "execution_count": 4,
   "metadata": {},
   "outputs": [
    {
     "name": "stdout",
     "output_type": "stream",
     "text": [
      "<class 'pandas.core.frame.DataFrame'>\n",
      "RangeIndex: 10866 entries, 0 to 10865\n",
      "Data columns (total 21 columns):\n",
      "id                      10866 non-null int64\n",
      "imdb_id                 10856 non-null object\n",
      "popularity              10866 non-null float64\n",
      "budget                  10866 non-null int64\n",
      "revenue                 10866 non-null int64\n",
      "original_title          10866 non-null object\n",
      "cast                    10790 non-null object\n",
      "homepage                2936 non-null object\n",
      "director                10822 non-null object\n",
      "tagline                 8042 non-null object\n",
      "keywords                9373 non-null object\n",
      "overview                10862 non-null object\n",
      "runtime                 10866 non-null int64\n",
      "genres                  10843 non-null object\n",
      "production_companies    9836 non-null object\n",
      "release_date            10866 non-null object\n",
      "vote_count              10866 non-null int64\n",
      "vote_average            10866 non-null float64\n",
      "release_year            10866 non-null int64\n",
      "budget_adj              10866 non-null float64\n",
      "revenue_adj             10866 non-null float64\n",
      "dtypes: float64(4), int64(6), object(11)\n",
      "memory usage: 1.7+ MB\n"
     ]
    }
   ],
   "source": [
    "df_movie.info()"
   ]
  },
  {
   "cell_type": "markdown",
   "metadata": {},
   "source": [
    "* This shows the datatypes and counts of entries per column.\n",
    "* There is a significant lack of data in the \"homepage,\" \"tagline,\" \"keywords,\" and \"production_companies,\" which those columns could probably be tossed out. "
   ]
  },
  {
   "cell_type": "code",
   "execution_count": 5,
   "metadata": {},
   "outputs": [
    {
     "data": {
      "text/plain": [
       "92           Mythica: The Necromancer\n",
       "334                           Ronaldo\n",
       "410                    Anarchy Parlor\n",
       "445     The Exorcism of Molly Hartley\n",
       "486                If There Be Thorns\n",
       "595                         Deep Dark\n",
       "616                      The Outfield\n",
       "1241                        Dance-Off\n",
       "1289                        Treehouse\n",
       "1293                         Tim Maia\n",
       "1849                     Spectacular!\n",
       "2315             Listen to Your Heart\n",
       "2370                  Freshman Father\n",
       "3329         Grande, grosso e Verdone\n",
       "3794             Toi, moi, les autres\n",
       "3857                         Cell 213\n",
       "3884                           eCupid\n",
       "4063           Madea's Family Reunion\n",
       "4138               A Time for Dancing\n",
       "4829                             Rags\n",
       "4944              How to Fall in Love\n",
       "5216            Madea's Class Reunion\n",
       "5695                 Skinwalker Ranch\n",
       "5920           The Food Guide to Love\n",
       "5938                      Go Goa Gone\n",
       "5992                 Amiche da morire\n",
       "6040            The Vatican Exorcisms\n",
       "6383         The 12 Dogs of Christmas\n",
       "6552                  Quatre Ã©toiles\n",
       "6934                    Jean-Philippe\n",
       "8874                  Mission Kashmir\n",
       "Name: original_title, dtype: object"
      ]
     },
     "execution_count": 5,
     "metadata": {},
     "output_type": "execute_result"
    }
   ],
   "source": [
    "df_movie.query('runtime == 0')['original_title']"
   ]
  },
  {
   "cell_type": "markdown",
   "metadata": {},
   "source": [
    "* A query was ran to see the titles of the movies with runtime equaling 0.\n",
    "* Some of the titles are recognizable and because this is a userbased website where users contribute the data for these films, that is most likely the reason for 0 input for some of these titles. I could google search each runtime and enter it in manually but since it is such a small portion I'm going to just eliminate these rows most likely. "
   ]
  },
  {
   "cell_type": "code",
   "execution_count": 6,
   "metadata": {},
   "outputs": [
    {
     "data": {
      "text/plain": [
       "5696"
      ]
     },
     "execution_count": 6,
     "metadata": {},
     "output_type": "execute_result"
    }
   ],
   "source": [
    "df_movie.query('budget_adj == 0')['original_title'].count()"
   ]
  },
  {
   "cell_type": "markdown",
   "metadata": {},
   "source": [
    "* A query for budget_adj equaling 0 was ran in order to see how many movies lacked budget info. Since this is a user-contributed site, that is most likely the reason for the lack of data and there are 5696 missing rows which would be impossible to fill manually. Also since a movie has to be funded somehow there is no point in analyzing a \"free\" movie. "
   ]
  },
  {
   "cell_type": "markdown",
   "metadata": {},
   "source": [
    "\n",
    "\n",
    "### Data Cleaning "
   ]
  },
  {
   "cell_type": "code",
   "execution_count": 7,
   "metadata": {},
   "outputs": [],
   "source": [
    "df_movie2 = df_movie.drop(['homepage','imdb_id','tagline','keywords','overview','production_companies','release_date','budget','revenue','cast'], axis=1)"
   ]
  },
  {
   "cell_type": "markdown",
   "metadata": {},
   "source": [
    "* Got rid of the following columns: homepage, imdb_id, tagline, keywords, overview, production_companies, release_date, budget, revenue, cast\n",
    "* These lacked data in most rows and didnt seem relevant to the information trying to be obtained.\n",
    "* Also we have the release year so release date was tossed out and the adjusted revenue and budget based on inflation is included so the original values were not deemed useful for analysis."
   ]
  },
  {
   "cell_type": "code",
   "execution_count": 8,
   "metadata": {},
   "outputs": [
    {
     "name": "stdout",
     "output_type": "stream",
     "text": [
      "<class 'pandas.core.frame.DataFrame'>\n",
      "Int64Index: 3855 entries, 0 to 10848\n",
      "Data columns (total 11 columns):\n",
      "id                3855 non-null int64\n",
      "popularity        3855 non-null float64\n",
      "original_title    3855 non-null object\n",
      "director          3854 non-null object\n",
      "runtime           3855 non-null int64\n",
      "genres            3855 non-null object\n",
      "vote_count        3855 non-null int64\n",
      "vote_average      3855 non-null float64\n",
      "release_year      3855 non-null int64\n",
      "budget_adj        3855 non-null float64\n",
      "revenue_adj       3855 non-null float64\n",
      "dtypes: float64(4), int64(4), object(3)\n",
      "memory usage: 361.4+ KB\n"
     ]
    }
   ],
   "source": [
    "df_movie3 = df_movie2.query('revenue_adj != 0').query('budget_adj != 0')\n",
    "df_movie3.info()"
   ]
  },
  {
   "cell_type": "markdown",
   "metadata": {},
   "source": [
    "* removed rows where adjusted budget and revenue was 0 because it was missing data which would skew the results"
   ]
  },
  {
   "cell_type": "code",
   "execution_count": 9,
   "metadata": {},
   "outputs": [],
   "source": [
    "df_movie3.to_csv('movies_clean.csv', index=False)"
   ]
  },
  {
   "cell_type": "code",
   "execution_count": 10,
   "metadata": {},
   "outputs": [],
   "source": [
    "df_movie3['genres_2'] = df_movie['genres'].str.split('|').str[0]"
   ]
  },
  {
   "cell_type": "markdown",
   "metadata": {},
   "source": [
    "* Wanted to drop the multiple genres for films and choose the first one as the official genre for the movie, so a new column 'genres_2' was created"
   ]
  },
  {
   "cell_type": "code",
   "execution_count": 11,
   "metadata": {},
   "outputs": [],
   "source": [
    "df_movie3.drop(['genres'], axis=1, inplace=True)"
   ]
  },
  {
   "cell_type": "code",
   "execution_count": 12,
   "metadata": {},
   "outputs": [],
   "source": [
    "df_movie3.drop(['id'], axis=1, inplace=True)"
   ]
  },
  {
   "cell_type": "markdown",
   "metadata": {},
   "source": [
    "* Dropped the original genres and id columns because they were unnecessary for the analysis"
   ]
  },
  {
   "cell_type": "code",
   "execution_count": 13,
   "metadata": {},
   "outputs": [
    {
     "data": {
      "text/plain": [
       "Drama              890\n",
       "Comedy             787\n",
       "Action             689\n",
       "Adventure          314\n",
       "Horror             275\n",
       "Crime              172\n",
       "Thriller           160\n",
       "Fantasy            110\n",
       "Animation          103\n",
       "Science Fiction     98\n",
       "Romance             66\n",
       "Family              40\n",
       "Mystery             36\n",
       "Documentary         32\n",
       "Music               29\n",
       "War                 20\n",
       "History             17\n",
       "Western             16\n",
       "TV Movie             1\n",
       "Name: genres_2, dtype: int64"
      ]
     },
     "execution_count": 13,
     "metadata": {},
     "output_type": "execute_result"
    }
   ],
   "source": [
    "df_movie3.genres_2.value_counts()"
   ]
  },
  {
   "cell_type": "markdown",
   "metadata": {},
   "source": [
    "* a more concise and workable categories for genres found and since there was only one type found under TV Movie, the row will be dropped"
   ]
  },
  {
   "cell_type": "code",
   "execution_count": 14,
   "metadata": {},
   "outputs": [
    {
     "data": {
      "text/html": [
       "<div>\n",
       "<style scoped>\n",
       "    .dataframe tbody tr th:only-of-type {\n",
       "        vertical-align: middle;\n",
       "    }\n",
       "\n",
       "    .dataframe tbody tr th {\n",
       "        vertical-align: top;\n",
       "    }\n",
       "\n",
       "    .dataframe thead th {\n",
       "        text-align: right;\n",
       "    }\n",
       "</style>\n",
       "<table border=\"1\" class=\"dataframe\">\n",
       "  <thead>\n",
       "    <tr style=\"text-align: right;\">\n",
       "      <th></th>\n",
       "      <th>popularity</th>\n",
       "      <th>original_title</th>\n",
       "      <th>director</th>\n",
       "      <th>runtime</th>\n",
       "      <th>vote_count</th>\n",
       "      <th>vote_average</th>\n",
       "      <th>release_year</th>\n",
       "      <th>budget_adj</th>\n",
       "      <th>revenue_adj</th>\n",
       "      <th>genres_2</th>\n",
       "    </tr>\n",
       "  </thead>\n",
       "  <tbody>\n",
       "    <tr>\n",
       "      <th>8615</th>\n",
       "      <td>0.273628</td>\n",
       "      <td>Doctor Who</td>\n",
       "      <td>Geoffrey Sax</td>\n",
       "      <td>89</td>\n",
       "      <td>35</td>\n",
       "      <td>5.6</td>\n",
       "      <td>1996</td>\n",
       "      <td>6951083.695</td>\n",
       "      <td>58389103.04</td>\n",
       "      <td>TV Movie</td>\n",
       "    </tr>\n",
       "  </tbody>\n",
       "</table>\n",
       "</div>"
      ],
      "text/plain": [
       "      popularity original_title      director  runtime  vote_count  \\\n",
       "8615    0.273628     Doctor Who  Geoffrey Sax       89          35   \n",
       "\n",
       "      vote_average  release_year   budget_adj  revenue_adj  genres_2  \n",
       "8615           5.6          1996  6951083.695  58389103.04  TV Movie  "
      ]
     },
     "execution_count": 14,
     "metadata": {},
     "output_type": "execute_result"
    }
   ],
   "source": [
    "df_movie3.query(\"genres_2 == 'TV Movie'\")"
   ]
  },
  {
   "cell_type": "code",
   "execution_count": 15,
   "metadata": {},
   "outputs": [],
   "source": [
    "df_movie3.drop(8615, inplace=True)"
   ]
  },
  {
   "cell_type": "code",
   "execution_count": null,
   "metadata": {},
   "outputs": [],
   "source": []
  },
  {
   "cell_type": "code",
   "execution_count": 16,
   "metadata": {},
   "outputs": [
    {
     "data": {
      "text/plain": [
       "(count    3854.000000\n",
       " mean        6.168007\n",
       " std         0.795090\n",
       " min         2.200000\n",
       " 25%         5.700000\n",
       " 50%         6.200000\n",
       " 75%         6.700000\n",
       " max         8.400000\n",
       " Name: vote_average, dtype: float64, count    3854.000000\n",
       " mean        1.191638\n",
       " std         1.475119\n",
       " min         0.001117\n",
       " 25%         0.462724\n",
       " 50%         0.797511\n",
       " 75%         1.368324\n",
       " max        32.985763\n",
       " Name: popularity, dtype: float64)"
      ]
     },
     "execution_count": 16,
     "metadata": {},
     "output_type": "execute_result"
    }
   ],
   "source": [
    "df_movie3.vote_average.describe(), df_movie3.popularity.describe()"
   ]
  },
  {
   "cell_type": "code",
   "execution_count": 17,
   "metadata": {},
   "outputs": [],
   "source": [
    "be_votes = [2.2, 5.7, 6.2, 6.7, 8.4]\n",
    "be_pop = [0.001117, 0.463068, 0.797723, 1.368403, 32.985763]"
   ]
  },
  {
   "cell_type": "code",
   "execution_count": 18,
   "metadata": {},
   "outputs": [],
   "source": [
    "bin_names_votes = ['Low', 'Below Average', 'Above Average', 'High']\n",
    "bin_names_pop = ['Non Popular', 'Semi Popular', 'Popular', 'Very Popular']"
   ]
  },
  {
   "cell_type": "code",
   "execution_count": 19,
   "metadata": {},
   "outputs": [],
   "source": [
    "df_movie3['rating_level'] = pd.cut(df_movie3['vote_average'], be_votes, labels=bin_names_votes)\n",
    "df_movie3['pop_level'] = pd.cut(df_movie3['popularity'], be_pop, labels=bin_names_pop)"
   ]
  },
  {
   "cell_type": "code",
   "execution_count": 20,
   "metadata": {},
   "outputs": [
    {
     "name": "stdout",
     "output_type": "stream",
     "text": [
      "<class 'pandas.core.frame.DataFrame'>\n",
      "Int64Index: 3854 entries, 0 to 10848\n",
      "Data columns (total 12 columns):\n",
      "popularity        3854 non-null float64\n",
      "original_title    3854 non-null object\n",
      "director          3853 non-null object\n",
      "runtime           3854 non-null int64\n",
      "vote_count        3854 non-null int64\n",
      "vote_average      3854 non-null float64\n",
      "release_year      3854 non-null int64\n",
      "budget_adj        3854 non-null float64\n",
      "revenue_adj       3854 non-null float64\n",
      "genres_2          3854 non-null object\n",
      "rating_level      3853 non-null category\n",
      "pop_level         3853 non-null category\n",
      "dtypes: category(2), float64(4), int64(3), object(3)\n",
      "memory usage: 339.1+ KB\n"
     ]
    }
   ],
   "source": [
    "df_movie3.info()"
   ]
  },
  {
   "cell_type": "code",
   "execution_count": 21,
   "metadata": {},
   "outputs": [],
   "source": [
    "df_movie3[\"pop_level\"] = df_movie3[\"pop_level\"].astype('object')\n",
    "df_movie3[\"rating_level\"] = df_movie3[\"rating_level\"].astype('object')"
   ]
  },
  {
   "cell_type": "markdown",
   "metadata": {},
   "source": [
    "* Changed new columns from type category to objects for easier use with labels on graphs for later. "
   ]
  },
  {
   "cell_type": "code",
   "execution_count": 22,
   "metadata": {},
   "outputs": [
    {
     "name": "stdout",
     "output_type": "stream",
     "text": [
      "<class 'pandas.core.frame.DataFrame'>\n",
      "Int64Index: 3854 entries, 0 to 10848\n",
      "Data columns (total 12 columns):\n",
      "popularity        3854 non-null float64\n",
      "original_title    3854 non-null object\n",
      "director          3853 non-null object\n",
      "runtime           3854 non-null int64\n",
      "vote_count        3854 non-null int64\n",
      "vote_average      3854 non-null float64\n",
      "release_year      3854 non-null int64\n",
      "budget_adj        3854 non-null float64\n",
      "revenue_adj       3854 non-null float64\n",
      "genres_2          3854 non-null object\n",
      "rating_level      3853 non-null object\n",
      "pop_level         3853 non-null object\n",
      "dtypes: float64(4), int64(3), object(5)\n",
      "memory usage: 391.4+ KB\n"
     ]
    }
   ],
   "source": [
    "df_movie3.info()"
   ]
  },
  {
   "cell_type": "code",
   "execution_count": 23,
   "metadata": {},
   "outputs": [
    {
     "data": {
      "text/plain": [
       "popularity        0\n",
       "original_title    0\n",
       "director          1\n",
       "runtime           0\n",
       "vote_count        0\n",
       "vote_average      0\n",
       "release_year      0\n",
       "budget_adj        0\n",
       "revenue_adj       0\n",
       "genres_2          0\n",
       "rating_level      1\n",
       "pop_level         1\n",
       "dtype: int64"
      ]
     },
     "execution_count": 23,
     "metadata": {},
     "output_type": "execute_result"
    }
   ],
   "source": [
    "df_movie3.isnull().sum()"
   ]
  },
  {
   "cell_type": "code",
   "execution_count": null,
   "metadata": {},
   "outputs": [],
   "source": []
  },
  {
   "cell_type": "code",
   "execution_count": 24,
   "metadata": {},
   "outputs": [],
   "source": [
    "df_movie3.dropna(axis=0, inplace=True)"
   ]
  },
  {
   "cell_type": "code",
   "execution_count": 25,
   "metadata": {},
   "outputs": [
    {
     "name": "stdout",
     "output_type": "stream",
     "text": [
      "<class 'pandas.core.frame.DataFrame'>\n",
      "Int64Index: 3851 entries, 0 to 10848\n",
      "Data columns (total 12 columns):\n",
      "popularity        3851 non-null float64\n",
      "original_title    3851 non-null object\n",
      "director          3851 non-null object\n",
      "runtime           3851 non-null int64\n",
      "vote_count        3851 non-null int64\n",
      "vote_average      3851 non-null float64\n",
      "release_year      3851 non-null int64\n",
      "budget_adj        3851 non-null float64\n",
      "revenue_adj       3851 non-null float64\n",
      "genres_2          3851 non-null object\n",
      "rating_level      3851 non-null object\n",
      "pop_level         3851 non-null object\n",
      "dtypes: float64(4), int64(3), object(5)\n",
      "memory usage: 391.1+ KB\n"
     ]
    }
   ],
   "source": [
    "df_movie3.info()"
   ]
  },
  {
   "cell_type": "markdown",
   "metadata": {},
   "source": [
    "* Found one NaN value in director column, one in the rating_level column, and one in the pop_level column. So these were removed and 3851 samples remain. "
   ]
  },
  {
   "cell_type": "code",
   "execution_count": 26,
   "metadata": {},
   "outputs": [],
   "source": [
    "df_movie3.to_csv('movies_clean2.csv', index=False)"
   ]
  },
  {
   "cell_type": "markdown",
   "metadata": {},
   "source": [
    "<a id='eda'></a>\n",
    "## Exploratory Data Analysis\n",
    "\n"
   ]
  },
  {
   "cell_type": "markdown",
   "metadata": {},
   "source": [
    "### Is the popularity of the movie associated with higher revenues?"
   ]
  },
  {
   "cell_type": "code",
   "execution_count": 27,
   "metadata": {},
   "outputs": [
    {
     "data": {
      "image/png": "[encoded data removed]",
      "text/plain": [
       "<Figure size 360x360 with 1 Axes>"
      ]
     },
     "metadata": {
      "needs_background": "light"
     },
     "output_type": "display_data"
    }
   ],
   "source": [
    "sns.relplot(x=\"popularity\", y=\"revenue_adj\", data=df_movie3);"
   ]
  },
  {
   "cell_type": "markdown",
   "metadata": {},
   "source": [
    "* A simple scatter plot can show a positive correlation between level of popularity and revenue.\n",
    "* A more appealing approach would be to categorize the levels of popularity based on the quartile levels of popularity. \n",
    "* Then a pie chart could visually see the variance in total revenue based on popularity. "
   ]
  },
  {
   "cell_type": "code",
   "execution_count": 28,
   "metadata": {},
   "outputs": [
    {
     "data": {
      "text/plain": [
       "pop_level\n",
       "Non Popular     3.857073e+10\n",
       "Popular         1.197908e+11\n",
       "Semi Popular    6.701613e+10\n",
       "Very Popular    3.027970e+11\n",
       "Name: revenue_adj, dtype: float64"
      ]
     },
     "execution_count": 28,
     "metadata": {},
     "output_type": "execute_result"
    }
   ],
   "source": [
    "tot_rev = df_movie3.groupby('pop_level')['revenue_adj'].sum()\n",
    "tot_rev"
   ]
  },
  {
   "cell_type": "code",
   "execution_count": 29,
   "metadata": {},
   "outputs": [],
   "source": [
    "level_pops = df_movie3.pop_level.unique()\n",
    "level_pops.sort()"
   ]
  },
  {
   "cell_type": "code",
   "execution_count": 30,
   "metadata": {},
   "outputs": [],
   "source": [
    "def pie_chart():\n",
    "    sns.set(context=\"notebook\")\n",
    "    plt.pie(tot_rev, labels=level_pops, autopct='%1.1f%%')\n",
    "    plt.legend(title=\"Popularity\",\n",
    "              loc=\"center right\",\n",
    "              bbox_to_anchor=(1.5, 0, 0.5, 1));"
   ]
  },
  {
   "cell_type": "code",
   "execution_count": null,
   "metadata": {},
   "outputs": [],
   "source": []
  },
  {
   "cell_type": "markdown",
   "metadata": {},
   "source": [
    "### Which genres of movies have the higher revenues on average?"
   ]
  },
  {
   "cell_type": "code",
   "execution_count": 31,
   "metadata": {},
   "outputs": [
    {
     "data": {
      "text/html": [
       "<div>\n",
       "<style scoped>\n",
       "    .dataframe tbody tr th:only-of-type {\n",
       "        vertical-align: middle;\n",
       "    }\n",
       "\n",
       "    .dataframe tbody tr th {\n",
       "        vertical-align: top;\n",
       "    }\n",
       "\n",
       "    .dataframe thead th {\n",
       "        text-align: right;\n",
       "    }\n",
       "</style>\n",
       "<table border=\"1\" class=\"dataframe\">\n",
       "  <thead>\n",
       "    <tr style=\"text-align: right;\">\n",
       "      <th></th>\n",
       "      <th>count</th>\n",
       "      <th>mean</th>\n",
       "      <th>std</th>\n",
       "      <th>min</th>\n",
       "      <th>25%</th>\n",
       "      <th>50%</th>\n",
       "      <th>75%</th>\n",
       "      <th>max</th>\n",
       "    </tr>\n",
       "    <tr>\n",
       "      <th>genres_2</th>\n",
       "      <th></th>\n",
       "      <th></th>\n",
       "      <th></th>\n",
       "      <th></th>\n",
       "      <th></th>\n",
       "      <th></th>\n",
       "      <th></th>\n",
       "      <th></th>\n",
       "    </tr>\n",
       "  </thead>\n",
       "  <tbody>\n",
       "    <tr>\n",
       "      <th>Action</th>\n",
       "      <td>689.0</td>\n",
       "      <td>1.626525e+08</td>\n",
       "      <td>2.381553e+08</td>\n",
       "      <td>3.615428e+01</td>\n",
       "      <td>2.452564e+07</td>\n",
       "      <td>7.697178e+07</td>\n",
       "      <td>2.045657e+08</td>\n",
       "      <td>2.827124e+09</td>\n",
       "    </tr>\n",
       "    <tr>\n",
       "      <th>Adventure</th>\n",
       "      <td>314.0</td>\n",
       "      <td>3.041586e+08</td>\n",
       "      <td>3.566121e+08</td>\n",
       "      <td>3.038360e+00</td>\n",
       "      <td>4.820123e+07</td>\n",
       "      <td>1.629252e+08</td>\n",
       "      <td>4.312494e+08</td>\n",
       "      <td>2.789712e+09</td>\n",
       "    </tr>\n",
       "    <tr>\n",
       "      <th>Animation</th>\n",
       "      <td>102.0</td>\n",
       "      <td>2.988852e+08</td>\n",
       "      <td>2.726879e+08</td>\n",
       "      <td>2.963382e+02</td>\n",
       "      <td>7.171833e+07</td>\n",
       "      <td>2.321571e+08</td>\n",
       "      <td>4.576847e+08</td>\n",
       "      <td>1.192711e+09</td>\n",
       "    </tr>\n",
       "    <tr>\n",
       "      <th>Comedy</th>\n",
       "      <td>787.0</td>\n",
       "      <td>1.006022e+08</td>\n",
       "      <td>1.290333e+08</td>\n",
       "      <td>1.385334e+01</td>\n",
       "      <td>1.875873e+07</td>\n",
       "      <td>5.206432e+07</td>\n",
       "      <td>1.343955e+08</td>\n",
       "      <td>9.973333e+08</td>\n",
       "    </tr>\n",
       "    <tr>\n",
       "      <th>Crime</th>\n",
       "      <td>172.0</td>\n",
       "      <td>9.784828e+07</td>\n",
       "      <td>1.528236e+08</td>\n",
       "      <td>7.425822e+03</td>\n",
       "      <td>1.622110e+07</td>\n",
       "      <td>5.553324e+07</td>\n",
       "      <td>1.362640e+08</td>\n",
       "      <td>1.583050e+09</td>\n",
       "    </tr>\n",
       "    <tr>\n",
       "      <th>Documentary</th>\n",
       "      <td>31.0</td>\n",
       "      <td>2.426295e+07</td>\n",
       "      <td>3.601757e+07</td>\n",
       "      <td>6.310011e+03</td>\n",
       "      <td>1.296047e+06</td>\n",
       "      <td>7.871522e+06</td>\n",
       "      <td>3.140185e+07</td>\n",
       "      <td>1.375112e+08</td>\n",
       "    </tr>\n",
       "    <tr>\n",
       "      <th>Drama</th>\n",
       "      <td>889.0</td>\n",
       "      <td>9.105405e+07</td>\n",
       "      <td>1.720070e+08</td>\n",
       "      <td>2.370705e+00</td>\n",
       "      <td>8.599127e+06</td>\n",
       "      <td>3.434099e+07</td>\n",
       "      <td>1.040437e+08</td>\n",
       "      <td>2.506406e+09</td>\n",
       "    </tr>\n",
       "    <tr>\n",
       "      <th>Family</th>\n",
       "      <td>40.0</td>\n",
       "      <td>2.728411e+08</td>\n",
       "      <td>3.382148e+08</td>\n",
       "      <td>1.928254e+07</td>\n",
       "      <td>4.770971e+07</td>\n",
       "      <td>1.204849e+08</td>\n",
       "      <td>3.278230e+08</td>\n",
       "      <td>1.345551e+09</td>\n",
       "    </tr>\n",
       "    <tr>\n",
       "      <th>Fantasy</th>\n",
       "      <td>110.0</td>\n",
       "      <td>1.943293e+08</td>\n",
       "      <td>2.272960e+08</td>\n",
       "      <td>2.289547e+01</td>\n",
       "      <td>3.199896e+07</td>\n",
       "      <td>1.138081e+08</td>\n",
       "      <td>2.768613e+08</td>\n",
       "      <td>9.961256e+08</td>\n",
       "    </tr>\n",
       "    <tr>\n",
       "      <th>History</th>\n",
       "      <td>17.0</td>\n",
       "      <td>1.680665e+08</td>\n",
       "      <td>1.869394e+08</td>\n",
       "      <td>6.118391e+05</td>\n",
       "      <td>3.106817e+07</td>\n",
       "      <td>1.114388e+08</td>\n",
       "      <td>2.151261e+08</td>\n",
       "      <td>6.081511e+08</td>\n",
       "    </tr>\n",
       "    <tr>\n",
       "      <th>Horror</th>\n",
       "      <td>275.0</td>\n",
       "      <td>7.877088e+07</td>\n",
       "      <td>1.388596e+08</td>\n",
       "      <td>6.951084e+00</td>\n",
       "      <td>1.953223e+07</td>\n",
       "      <td>4.865144e+07</td>\n",
       "      <td>9.260511e+07</td>\n",
       "      <td>1.907006e+09</td>\n",
       "    </tr>\n",
       "    <tr>\n",
       "      <th>Music</th>\n",
       "      <td>29.0</td>\n",
       "      <td>1.285718e+08</td>\n",
       "      <td>1.503471e+08</td>\n",
       "      <td>1.141961e+02</td>\n",
       "      <td>2.092533e+07</td>\n",
       "      <td>6.655508e+07</td>\n",
       "      <td>1.458037e+08</td>\n",
       "      <td>6.077490e+08</td>\n",
       "    </tr>\n",
       "    <tr>\n",
       "      <th>Mystery</th>\n",
       "      <td>36.0</td>\n",
       "      <td>8.748986e+07</td>\n",
       "      <td>1.600484e+08</td>\n",
       "      <td>8.631164e+03</td>\n",
       "      <td>1.625383e+07</td>\n",
       "      <td>4.004057e+07</td>\n",
       "      <td>7.328661e+07</td>\n",
       "      <td>8.807390e+08</td>\n",
       "    </tr>\n",
       "    <tr>\n",
       "      <th>Romance</th>\n",
       "      <td>66.0</td>\n",
       "      <td>1.242896e+08</td>\n",
       "      <td>1.579534e+08</td>\n",
       "      <td>2.861934e+00</td>\n",
       "      <td>1.088016e+07</td>\n",
       "      <td>7.351914e+07</td>\n",
       "      <td>1.522071e+08</td>\n",
       "      <td>7.727000e+08</td>\n",
       "    </tr>\n",
       "    <tr>\n",
       "      <th>Science Fiction</th>\n",
       "      <td>98.0</td>\n",
       "      <td>2.171706e+08</td>\n",
       "      <td>3.039675e+08</td>\n",
       "      <td>5.926763e+00</td>\n",
       "      <td>2.924690e+07</td>\n",
       "      <td>1.142020e+08</td>\n",
       "      <td>2.382647e+08</td>\n",
       "      <td>1.791694e+09</td>\n",
       "    </tr>\n",
       "    <tr>\n",
       "      <th>Thriller</th>\n",
       "      <td>160.0</td>\n",
       "      <td>9.109040e+07</td>\n",
       "      <td>1.269902e+08</td>\n",
       "      <td>8.585801e+00</td>\n",
       "      <td>9.970074e+06</td>\n",
       "      <td>4.888998e+07</td>\n",
       "      <td>1.233413e+08</td>\n",
       "      <td>8.201647e+08</td>\n",
       "    </tr>\n",
       "    <tr>\n",
       "      <th>War</th>\n",
       "      <td>20.0</td>\n",
       "      <td>1.405774e+08</td>\n",
       "      <td>1.889636e+08</td>\n",
       "      <td>1.694411e+04</td>\n",
       "      <td>2.278555e+07</td>\n",
       "      <td>6.636505e+07</td>\n",
       "      <td>1.553500e+08</td>\n",
       "      <td>5.984813e+08</td>\n",
       "    </tr>\n",
       "    <tr>\n",
       "      <th>Western</th>\n",
       "      <td>16.0</td>\n",
       "      <td>1.158031e+08</td>\n",
       "      <td>1.389766e+08</td>\n",
       "      <td>5.753797e+03</td>\n",
       "      <td>3.097786e+07</td>\n",
       "      <td>6.565072e+07</td>\n",
       "      <td>1.307444e+08</td>\n",
       "      <td>4.903142e+08</td>\n",
       "    </tr>\n",
       "  </tbody>\n",
       "</table>\n",
       "</div>"
      ],
      "text/plain": [
       "                 count          mean           std           min  \\\n",
       "genres_2                                                           \n",
       "Action           689.0  1.626525e+08  2.381553e+08  3.615428e+01   \n",
       "Adventure        314.0  3.041586e+08  3.566121e+08  3.038360e+00   \n",
       "Animation        102.0  2.988852e+08  2.726879e+08  2.963382e+02   \n",
       "Comedy           787.0  1.006022e+08  1.290333e+08  1.385334e+01   \n",
       "Crime            172.0  9.784828e+07  1.528236e+08  7.425822e+03   \n",
       "Documentary       31.0  2.426295e+07  3.601757e+07  6.310011e+03   \n",
       "Drama            889.0  9.105405e+07  1.720070e+08  2.370705e+00   \n",
       "Family            40.0  2.728411e+08  3.382148e+08  1.928254e+07   \n",
       "Fantasy          110.0  1.943293e+08  2.272960e+08  2.289547e+01   \n",
       "History           17.0  1.680665e+08  1.869394e+08  6.118391e+05   \n",
       "Horror           275.0  7.877088e+07  1.388596e+08  6.951084e+00   \n",
       "Music             29.0  1.285718e+08  1.503471e+08  1.141961e+02   \n",
       "Mystery           36.0  8.748986e+07  1.600484e+08  8.631164e+03   \n",
       "Romance           66.0  1.242896e+08  1.579534e+08  2.861934e+00   \n",
       "Science Fiction   98.0  2.171706e+08  3.039675e+08  5.926763e+00   \n",
       "Thriller         160.0  9.109040e+07  1.269902e+08  8.585801e+00   \n",
       "War               20.0  1.405774e+08  1.889636e+08  1.694411e+04   \n",
       "Western           16.0  1.158031e+08  1.389766e+08  5.753797e+03   \n",
       "\n",
       "                          25%           50%           75%           max  \n",
       "genres_2                                                                 \n",
       "Action           2.452564e+07  7.697178e+07  2.045657e+08  2.827124e+09  \n",
       "Adventure        4.820123e+07  1.629252e+08  4.312494e+08  2.789712e+09  \n",
       "Animation        7.171833e+07  2.321571e+08  4.576847e+08  1.192711e+09  \n",
       "Comedy           1.875873e+07  5.206432e+07  1.343955e+08  9.973333e+08  \n",
       "Crime            1.622110e+07  5.553324e+07  1.362640e+08  1.583050e+09  \n",
       "Documentary      1.296047e+06  7.871522e+06  3.140185e+07  1.375112e+08  \n",
       "Drama            8.599127e+06  3.434099e+07  1.040437e+08  2.506406e+09  \n",
       "Family           4.770971e+07  1.204849e+08  3.278230e+08  1.345551e+09  \n",
       "Fantasy          3.199896e+07  1.138081e+08  2.768613e+08  9.961256e+08  \n",
       "History          3.106817e+07  1.114388e+08  2.151261e+08  6.081511e+08  \n",
       "Horror           1.953223e+07  4.865144e+07  9.260511e+07  1.907006e+09  \n",
       "Music            2.092533e+07  6.655508e+07  1.458037e+08  6.077490e+08  \n",
       "Mystery          1.625383e+07  4.004057e+07  7.328661e+07  8.807390e+08  \n",
       "Romance          1.088016e+07  7.351914e+07  1.522071e+08  7.727000e+08  \n",
       "Science Fiction  2.924690e+07  1.142020e+08  2.382647e+08  1.791694e+09  \n",
       "Thriller         9.970074e+06  4.888998e+07  1.233413e+08  8.201647e+08  \n",
       "War              2.278555e+07  6.636505e+07  1.553500e+08  5.984813e+08  \n",
       "Western          3.097786e+07  6.565072e+07  1.307444e+08  4.903142e+08  "
      ]
     },
     "execution_count": 31,
     "metadata": {},
     "output_type": "execute_result"
    }
   ],
   "source": [
    "df_movie3.groupby('genres_2').revenue_adj.describe()\n"
   ]
  },
  {
   "cell_type": "markdown",
   "metadata": {},
   "source": [
    "* the describe function can give general statistics on each genre of film and in reference to revenue\n",
    "* Some boxplots of this data would be easier to see which genres fair better in terms of revenue. "
   ]
  },
  {
   "cell_type": "code",
   "execution_count": 32,
   "metadata": {},
   "outputs": [],
   "source": [
    "boxplot_data = df_movie3.query('revenue_adj < 500000000')"
   ]
  },
  {
   "cell_type": "markdown",
   "metadata": {},
   "source": [
    "* A query for revenue less than $500,000,000 was chosen to show where most of the data is clustered to make the boxplots more visually appealing. "
   ]
  },
  {
   "cell_type": "code",
   "execution_count": 33,
   "metadata": {},
   "outputs": [],
   "source": [
    "def boxplot():\n",
    "    sns.set(style=\"ticks\", font_scale=1.75)\n",
    "    sns.catplot(x=\"genres_2\", y=\"revenue_adj\", kind=\"box\", height=10, aspect=2, data=boxplot_data)\n",
    "    plt.xlabel(\"Genres\")\n",
    "    plt.ylabel(\"Revenue in $100,000,000s\")\n",
    "    plt.xticks(rotation=45);"
   ]
  },
  {
   "cell_type": "code",
   "execution_count": 34,
   "metadata": {},
   "outputs": [
    {
     "data": {
      "image/png": "[encoded data removed]",
      "text/plain": [
       "<Figure size 432x288 with 1 Axes>"
      ]
     },
     "metadata": {},
     "output_type": "display_data"
    }
   ],
   "source": [
    "pie_chart()"
   ]
  },
  {
   "cell_type": "code",
   "execution_count": 35,
   "metadata": {},
   "outputs": [
    {
     "data": {
      "image/png": "[encoded data removed]",
      "text/plain": [
       "<Figure size 1440x720 with 1 Axes>"
      ]
     },
     "metadata": {},
     "output_type": "display_data"
    }
   ],
   "source": [
    "boxplot()"
   ]
  },
  {
   "cell_type": "markdown",
   "metadata": {},
   "source": [
    "<a id='conclusions'></a>\n",
    "## Conclusions\n",
    "\n",
    "\n",
    "> **Pie Chart**: \n",
    "* The total revenue divided among the popularity levels shows that more popular movies generate higher revenues. This is most likely because the popularity of a movie generates more \"hype\" which can create interest with more people willing to see a movie. \n",
    "* According to the TMDb website, the popularity rating is based on:\n",
    "     Number of votes for the day\n",
    "     Number of views for the day\n",
    "     Number of users who marked it as a \"favourite\" for the day\n",
    "     Number of users who added it to their \"watchlist\" for the day\n",
    "     Release date\n",
    "     Number of total votes\n",
    "     Previous days score\n",
    "* Therefore any correlation between revenue and popularity is independent of one another and does not directly contribute to the score. \n",
    "\n",
    "> **Box Plot**:\n",
    "* The boxplot shows that Animation has the overall highest sales of revenue between all the genres. \n",
    "* The median is significantly higher than the others which would indicate more data points in higher grossing revenue range. \n",
    "* Documentary had the lowest revenues along with Mystery.\n"
   ]
  },
  {
   "cell_type": "markdown",
   "metadata": {},
   "source": [
    "<a id='limitations'></a>\n",
    "## Limitations\n",
    "\n",
    "* There was a substantial amount of movie data excluded based on missing data values in the budget and revenue columns. \n",
    "* Certain movies had multiple genres listed under them but only the first one listed was used in this analysis. \n",
    "* The sample size for certain genres was limited which might affect the results. \n"
   ]
  },
  {
   "cell_type": "code",
   "execution_count": null,
   "metadata": {},
   "outputs": [],
   "source": []
  }
 ],
 "metadata": {
  "kernelspec": {
   "display_name": "Python 3",
   "language": "python",
   "name": "python3"
  },
  "language_info": {
   "codemirror_mode": {
    "name": "ipython",
    "version": 3
   },
   "file_extension": ".py",
   "mimetype": "text/x-python",
   "name": "python",
   "nbconvert_exporter": "python",
   "pygments_lexer": "ipython3",
   "version": "3.7.3"
  }
 },
 "nbformat": 4,
 "nbformat_minor": 2
}

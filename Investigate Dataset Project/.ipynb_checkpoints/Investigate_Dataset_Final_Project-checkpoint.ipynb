{
 "cells": [
  {
   "cell_type": "markdown",
   "metadata": {},
   "source": [
    "\n",
    "# Project: Investigating Movie Data\n",
    "\n",
    "## Table of Contents\n",
    "<ul>\n",
    "<li><a href=\"#intro\">Introduction</a></li>\n",
    "<li><a href=\"#wrangling\">Data Wrangling</a></li>\n",
    "<li><a href=\"#eda\">Exploratory Data Analysis</a></li>\n",
    "<li><a href=\"#conclusions\">Conclusions</a></li>\n",
    "<li><a href=\"#limitations\">Limitations</a></li>\n",
    "</ul>"
   ]
  },
  {
   "cell_type": "markdown",
   "metadata": {},
   "source": [
    "<a id='intro'></a>\n",
    "## Introduction\n",
    "\n",
    "> The dataset is from The Movie Database (TMDb) which is a collection of information from about 10,000 movies. Information includes, title, cast, director, user ratings, revenue, budget, genre, release date, etc. The investigation will explore revenue and how they are affected by genres, popularity, ratings, etc. "
   ]
  },
  {
   "cell_type": "code",
   "execution_count": 1,
   "metadata": {},
   "outputs": [],
   "source": [
    "# importing libraries\n",
    "import pandas as pd\n",
    "import matplotlib.pyplot as plt\n",
    "import numpy as np\n",
    "import seaborn as sns\n",
    "%matplotlib inline"
   ]
  },
  {
   "cell_type": "code",
   "execution_count": 16,
   "metadata": {},
   "outputs": [],
   "source": [
    "# intial formatting of the data before we read the file in\n",
    "# helps reduce clutter and noise when displaying numbers\n",
    "pd.set_option('float_format', '{:.02f}'.format)"
   ]
  },
  {
   "cell_type": "markdown",
   "metadata": {},
   "source": [
    "<a id='wrangling'></a>\n",
    "## Data Wrangling\n",
    "\n",
    "\n",
    "### General Properties"
   ]
  },
  {
   "cell_type": "code",
   "execution_count": 2,
   "metadata": {},
   "outputs": [
    {
     "data": {
      "text/html": [
       "<div>\n",
       "<style scoped>\n",
       "    .dataframe tbody tr th:only-of-type {\n",
       "        vertical-align: middle;\n",
       "    }\n",
       "\n",
       "    .dataframe tbody tr th {\n",
       "        vertical-align: top;\n",
       "    }\n",
       "\n",
       "    .dataframe thead th {\n",
       "        text-align: right;\n",
       "    }\n",
       "</style>\n",
       "<table border=\"1\" class=\"dataframe\">\n",
       "  <thead>\n",
       "    <tr style=\"text-align: right;\">\n",
       "      <th></th>\n",
       "      <th>id</th>\n",
       "      <th>imdb_id</th>\n",
       "      <th>popularity</th>\n",
       "      <th>budget</th>\n",
       "      <th>revenue</th>\n",
       "      <th>original_title</th>\n",
       "      <th>cast</th>\n",
       "      <th>homepage</th>\n",
       "      <th>director</th>\n",
       "      <th>tagline</th>\n",
       "      <th>...</th>\n",
       "      <th>overview</th>\n",
       "      <th>runtime</th>\n",
       "      <th>genres</th>\n",
       "      <th>production_companies</th>\n",
       "      <th>release_date</th>\n",
       "      <th>vote_count</th>\n",
       "      <th>vote_average</th>\n",
       "      <th>release_year</th>\n",
       "      <th>budget_adj</th>\n",
       "      <th>revenue_adj</th>\n",
       "    </tr>\n",
       "  </thead>\n",
       "  <tbody>\n",
       "    <tr>\n",
       "      <th>0</th>\n",
       "      <td>135397</td>\n",
       "      <td>tt0369610</td>\n",
       "      <td>32.985763</td>\n",
       "      <td>150000000</td>\n",
       "      <td>1513528810</td>\n",
       "      <td>Jurassic World</td>\n",
       "      <td>Chris Pratt|Bryce Dallas Howard|Irrfan Khan|Vi...</td>\n",
       "      <td>http://www.jurassicworld.com/</td>\n",
       "      <td>Colin Trevorrow</td>\n",
       "      <td>The park is open.</td>\n",
       "      <td>...</td>\n",
       "      <td>Twenty-two years after the events of Jurassic ...</td>\n",
       "      <td>124</td>\n",
       "      <td>Action|Adventure|Science Fiction|Thriller</td>\n",
       "      <td>Universal Studios|Amblin Entertainment|Legenda...</td>\n",
       "      <td>6/9/15</td>\n",
       "      <td>5562</td>\n",
       "      <td>6.5</td>\n",
       "      <td>2015</td>\n",
       "      <td>137999939.3</td>\n",
       "      <td>1.392446e+09</td>\n",
       "    </tr>\n",
       "    <tr>\n",
       "      <th>1</th>\n",
       "      <td>76341</td>\n",
       "      <td>tt1392190</td>\n",
       "      <td>28.419936</td>\n",
       "      <td>150000000</td>\n",
       "      <td>378436354</td>\n",
       "      <td>Mad Max: Fury Road</td>\n",
       "      <td>Tom Hardy|Charlize Theron|Hugh Keays-Byrne|Nic...</td>\n",
       "      <td>http://www.madmaxmovie.com/</td>\n",
       "      <td>George Miller</td>\n",
       "      <td>What a Lovely Day.</td>\n",
       "      <td>...</td>\n",
       "      <td>An apocalyptic story set in the furthest reach...</td>\n",
       "      <td>120</td>\n",
       "      <td>Action|Adventure|Science Fiction|Thriller</td>\n",
       "      <td>Village Roadshow Pictures|Kennedy Miller Produ...</td>\n",
       "      <td>5/13/15</td>\n",
       "      <td>6185</td>\n",
       "      <td>7.1</td>\n",
       "      <td>2015</td>\n",
       "      <td>137999939.3</td>\n",
       "      <td>3.481613e+08</td>\n",
       "    </tr>\n",
       "    <tr>\n",
       "      <th>2</th>\n",
       "      <td>262500</td>\n",
       "      <td>tt2908446</td>\n",
       "      <td>13.112507</td>\n",
       "      <td>110000000</td>\n",
       "      <td>295238201</td>\n",
       "      <td>Insurgent</td>\n",
       "      <td>Shailene Woodley|Theo James|Kate Winslet|Ansel...</td>\n",
       "      <td>http://www.thedivergentseries.movie/#insurgent</td>\n",
       "      <td>Robert Schwentke</td>\n",
       "      <td>One Choice Can Destroy You</td>\n",
       "      <td>...</td>\n",
       "      <td>Beatrice Prior must confront her inner demons ...</td>\n",
       "      <td>119</td>\n",
       "      <td>Adventure|Science Fiction|Thriller</td>\n",
       "      <td>Summit Entertainment|Mandeville Films|Red Wago...</td>\n",
       "      <td>3/18/15</td>\n",
       "      <td>2480</td>\n",
       "      <td>6.3</td>\n",
       "      <td>2015</td>\n",
       "      <td>101199955.5</td>\n",
       "      <td>2.716190e+08</td>\n",
       "    </tr>\n",
       "    <tr>\n",
       "      <th>3</th>\n",
       "      <td>140607</td>\n",
       "      <td>tt2488496</td>\n",
       "      <td>11.173104</td>\n",
       "      <td>200000000</td>\n",
       "      <td>2068178225</td>\n",
       "      <td>Star Wars: The Force Awakens</td>\n",
       "      <td>Harrison Ford|Mark Hamill|Carrie Fisher|Adam D...</td>\n",
       "      <td>http://www.starwars.com/films/star-wars-episod...</td>\n",
       "      <td>J.J. Abrams</td>\n",
       "      <td>Every generation has a story.</td>\n",
       "      <td>...</td>\n",
       "      <td>Thirty years after defeating the Galactic Empi...</td>\n",
       "      <td>136</td>\n",
       "      <td>Action|Adventure|Science Fiction|Fantasy</td>\n",
       "      <td>Lucasfilm|Truenorth Productions|Bad Robot</td>\n",
       "      <td>12/15/15</td>\n",
       "      <td>5292</td>\n",
       "      <td>7.5</td>\n",
       "      <td>2015</td>\n",
       "      <td>183999919.0</td>\n",
       "      <td>1.902723e+09</td>\n",
       "    </tr>\n",
       "    <tr>\n",
       "      <th>4</th>\n",
       "      <td>168259</td>\n",
       "      <td>tt2820852</td>\n",
       "      <td>9.335014</td>\n",
       "      <td>190000000</td>\n",
       "      <td>1506249360</td>\n",
       "      <td>Furious 7</td>\n",
       "      <td>Vin Diesel|Paul Walker|Jason Statham|Michelle ...</td>\n",
       "      <td>http://www.furious7.com/</td>\n",
       "      <td>James Wan</td>\n",
       "      <td>Vengeance Hits Home</td>\n",
       "      <td>...</td>\n",
       "      <td>Deckard Shaw seeks revenge against Dominic Tor...</td>\n",
       "      <td>137</td>\n",
       "      <td>Action|Crime|Thriller</td>\n",
       "      <td>Universal Pictures|Original Film|Media Rights ...</td>\n",
       "      <td>4/1/15</td>\n",
       "      <td>2947</td>\n",
       "      <td>7.3</td>\n",
       "      <td>2015</td>\n",
       "      <td>174799923.1</td>\n",
       "      <td>1.385749e+09</td>\n",
       "    </tr>\n",
       "  </tbody>\n",
       "</table>\n",
       "<p>5 rows × 21 columns</p>\n",
       "</div>"
      ],
      "text/plain": [
       "       id    imdb_id  popularity     budget     revenue  \\\n",
       "0  135397  tt0369610   32.985763  150000000  1513528810   \n",
       "1   76341  tt1392190   28.419936  150000000   378436354   \n",
       "2  262500  tt2908446   13.112507  110000000   295238201   \n",
       "3  140607  tt2488496   11.173104  200000000  2068178225   \n",
       "4  168259  tt2820852    9.335014  190000000  1506249360   \n",
       "\n",
       "                 original_title  \\\n",
       "0                Jurassic World   \n",
       "1            Mad Max: Fury Road   \n",
       "2                     Insurgent   \n",
       "3  Star Wars: The Force Awakens   \n",
       "4                     Furious 7   \n",
       "\n",
       "                                                cast  \\\n",
       "0  Chris Pratt|Bryce Dallas Howard|Irrfan Khan|Vi...   \n",
       "1  Tom Hardy|Charlize Theron|Hugh Keays-Byrne|Nic...   \n",
       "2  Shailene Woodley|Theo James|Kate Winslet|Ansel...   \n",
       "3  Harrison Ford|Mark Hamill|Carrie Fisher|Adam D...   \n",
       "4  Vin Diesel|Paul Walker|Jason Statham|Michelle ...   \n",
       "\n",
       "                                            homepage          director  \\\n",
       "0                      http://www.jurassicworld.com/   Colin Trevorrow   \n",
       "1                        http://www.madmaxmovie.com/     George Miller   \n",
       "2     http://www.thedivergentseries.movie/#insurgent  Robert Schwentke   \n",
       "3  http://www.starwars.com/films/star-wars-episod...       J.J. Abrams   \n",
       "4                           http://www.furious7.com/         James Wan   \n",
       "\n",
       "                         tagline  ...  \\\n",
       "0              The park is open.  ...   \n",
       "1             What a Lovely Day.  ...   \n",
       "2     One Choice Can Destroy You  ...   \n",
       "3  Every generation has a story.  ...   \n",
       "4            Vengeance Hits Home  ...   \n",
       "\n",
       "                                            overview runtime  \\\n",
       "0  Twenty-two years after the events of Jurassic ...     124   \n",
       "1  An apocalyptic story set in the furthest reach...     120   \n",
       "2  Beatrice Prior must confront her inner demons ...     119   \n",
       "3  Thirty years after defeating the Galactic Empi...     136   \n",
       "4  Deckard Shaw seeks revenge against Dominic Tor...     137   \n",
       "\n",
       "                                      genres  \\\n",
       "0  Action|Adventure|Science Fiction|Thriller   \n",
       "1  Action|Adventure|Science Fiction|Thriller   \n",
       "2         Adventure|Science Fiction|Thriller   \n",
       "3   Action|Adventure|Science Fiction|Fantasy   \n",
       "4                      Action|Crime|Thriller   \n",
       "\n",
       "                                production_companies release_date vote_count  \\\n",
       "0  Universal Studios|Amblin Entertainment|Legenda...       6/9/15       5562   \n",
       "1  Village Roadshow Pictures|Kennedy Miller Produ...      5/13/15       6185   \n",
       "2  Summit Entertainment|Mandeville Films|Red Wago...      3/18/15       2480   \n",
       "3          Lucasfilm|Truenorth Productions|Bad Robot     12/15/15       5292   \n",
       "4  Universal Pictures|Original Film|Media Rights ...       4/1/15       2947   \n",
       "\n",
       "   vote_average  release_year   budget_adj   revenue_adj  \n",
       "0           6.5          2015  137999939.3  1.392446e+09  \n",
       "1           7.1          2015  137999939.3  3.481613e+08  \n",
       "2           6.3          2015  101199955.5  2.716190e+08  \n",
       "3           7.5          2015  183999919.0  1.902723e+09  \n",
       "4           7.3          2015  174799923.1  1.385749e+09  \n",
       "\n",
       "[5 rows x 21 columns]"
      ]
     },
     "execution_count": 2,
     "metadata": {},
     "output_type": "execute_result"
    }
   ],
   "source": [
    "#read-in the dataset\n",
    "df_movie = pd.read_csv('tmdb_movies.csv')\n",
    "df_movie.head()"
   ]
  },
  {
   "cell_type": "code",
   "execution_count": 3,
   "metadata": {},
   "outputs": [
    {
     "name": "stdout",
     "output_type": "stream",
     "text": [
      "<class 'pandas.core.frame.DataFrame'>\n",
      "RangeIndex: 10866 entries, 0 to 10865\n",
      "Data columns (total 21 columns):\n",
      "id                      10866 non-null int64\n",
      "imdb_id                 10856 non-null object\n",
      "popularity              10866 non-null float64\n",
      "budget                  10866 non-null int64\n",
      "revenue                 10866 non-null int64\n",
      "original_title          10866 non-null object\n",
      "cast                    10790 non-null object\n",
      "homepage                2936 non-null object\n",
      "director                10822 non-null object\n",
      "tagline                 8042 non-null object\n",
      "keywords                9373 non-null object\n",
      "overview                10862 non-null object\n",
      "runtime                 10866 non-null int64\n",
      "genres                  10843 non-null object\n",
      "production_companies    9836 non-null object\n",
      "release_date            10866 non-null object\n",
      "vote_count              10866 non-null int64\n",
      "vote_average            10866 non-null float64\n",
      "release_year            10866 non-null int64\n",
      "budget_adj              10866 non-null float64\n",
      "revenue_adj             10866 non-null float64\n",
      "dtypes: float64(4), int64(6), object(11)\n",
      "memory usage: 1.7+ MB\n"
     ]
    }
   ],
   "source": [
    "# identify datatypes for variables\n",
    "df_movie.info()"
   ]
  },
  {
   "cell_type": "markdown",
   "metadata": {},
   "source": [
    "* This shows the datatypes and counts of entries per column.\n",
    "* There is a significant lack of data in the \"homepage,\" \"tagline,\" \"keywords,\" and \"production_companies,\" which those columns could probably be tossed out. "
   ]
  },
  {
   "cell_type": "code",
   "execution_count": 17,
   "metadata": {
    "scrolled": true
   },
   "outputs": [
    {
     "data": {
      "text/html": [
       "<div>\n",
       "<style scoped>\n",
       "    .dataframe tbody tr th:only-of-type {\n",
       "        vertical-align: middle;\n",
       "    }\n",
       "\n",
       "    .dataframe tbody tr th {\n",
       "        vertical-align: top;\n",
       "    }\n",
       "\n",
       "    .dataframe thead th {\n",
       "        text-align: right;\n",
       "    }\n",
       "</style>\n",
       "<table border=\"1\" class=\"dataframe\">\n",
       "  <thead>\n",
       "    <tr style=\"text-align: right;\">\n",
       "      <th></th>\n",
       "      <th>popularity</th>\n",
       "      <th>runtime</th>\n",
       "      <th>vote_count</th>\n",
       "      <th>vote_average</th>\n",
       "      <th>release_year</th>\n",
       "      <th>budget_adj</th>\n",
       "      <th>revenue_adj</th>\n",
       "    </tr>\n",
       "  </thead>\n",
       "  <tbody>\n",
       "    <tr>\n",
       "      <th>count</th>\n",
       "      <td>3855.00</td>\n",
       "      <td>3855.00</td>\n",
       "      <td>3855.00</td>\n",
       "      <td>3855.00</td>\n",
       "      <td>3855.00</td>\n",
       "      <td>3855.00</td>\n",
       "      <td>3855.00</td>\n",
       "    </tr>\n",
       "    <tr>\n",
       "      <th>mean</th>\n",
       "      <td>1.19</td>\n",
       "      <td>109.22</td>\n",
       "      <td>527.61</td>\n",
       "      <td>6.17</td>\n",
       "      <td>2001.26</td>\n",
       "      <td>44236299.18</td>\n",
       "      <td>137029386.10</td>\n",
       "    </tr>\n",
       "    <tr>\n",
       "      <th>std</th>\n",
       "      <td>1.48</td>\n",
       "      <td>19.92</td>\n",
       "      <td>879.87</td>\n",
       "      <td>0.80</td>\n",
       "      <td>11.28</td>\n",
       "      <td>44804027.33</td>\n",
       "      <td>216094430.04</td>\n",
       "    </tr>\n",
       "    <tr>\n",
       "      <th>min</th>\n",
       "      <td>0.00</td>\n",
       "      <td>15.00</td>\n",
       "      <td>10.00</td>\n",
       "      <td>2.20</td>\n",
       "      <td>1960.00</td>\n",
       "      <td>0.97</td>\n",
       "      <td>2.37</td>\n",
       "    </tr>\n",
       "    <tr>\n",
       "      <th>25%</th>\n",
       "      <td>0.46</td>\n",
       "      <td>95.00</td>\n",
       "      <td>71.00</td>\n",
       "      <td>5.70</td>\n",
       "      <td>1995.00</td>\n",
       "      <td>13090528.47</td>\n",
       "      <td>18341233.68</td>\n",
       "    </tr>\n",
       "    <tr>\n",
       "      <th>50%</th>\n",
       "      <td>0.80</td>\n",
       "      <td>106.00</td>\n",
       "      <td>204.00</td>\n",
       "      <td>6.20</td>\n",
       "      <td>2004.00</td>\n",
       "      <td>30015580.40</td>\n",
       "      <td>61718613.20</td>\n",
       "    </tr>\n",
       "    <tr>\n",
       "      <th>75%</th>\n",
       "      <td>1.37</td>\n",
       "      <td>119.00</td>\n",
       "      <td>580.00</td>\n",
       "      <td>6.70</td>\n",
       "      <td>2010.00</td>\n",
       "      <td>60613069.68</td>\n",
       "      <td>163240089.70</td>\n",
       "    </tr>\n",
       "    <tr>\n",
       "      <th>max</th>\n",
       "      <td>32.99</td>\n",
       "      <td>338.00</td>\n",
       "      <td>9767.00</td>\n",
       "      <td>8.40</td>\n",
       "      <td>2015.00</td>\n",
       "      <td>425000000.00</td>\n",
       "      <td>2827123750.00</td>\n",
       "    </tr>\n",
       "  </tbody>\n",
       "</table>\n",
       "</div>"
      ],
      "text/plain": [
       "       popularity  runtime  vote_count  vote_average  release_year  \\\n",
       "count     3855.00  3855.00     3855.00       3855.00       3855.00   \n",
       "mean         1.19   109.22      527.61          6.17       2001.26   \n",
       "std          1.48    19.92      879.87          0.80         11.28   \n",
       "min          0.00    15.00       10.00          2.20       1960.00   \n",
       "25%          0.46    95.00       71.00          5.70       1995.00   \n",
       "50%          0.80   106.00      204.00          6.20       2004.00   \n",
       "75%          1.37   119.00      580.00          6.70       2010.00   \n",
       "max         32.99   338.00     9767.00          8.40       2015.00   \n",
       "\n",
       "        budget_adj   revenue_adj  \n",
       "count      3855.00       3855.00  \n",
       "mean   44236299.18  137029386.10  \n",
       "std    44804027.33  216094430.04  \n",
       "min           0.97          2.37  \n",
       "25%    13090528.47   18341233.68  \n",
       "50%    30015580.40   61718613.20  \n",
       "75%    60613069.68  163240089.70  \n",
       "max   425000000.00 2827123750.00  "
      ]
     },
     "execution_count": 17,
     "metadata": {},
     "output_type": "execute_result"
    }
   ],
   "source": [
    "# stats for numeric data\n",
    "df_movie.describe()"
   ]
  },
  {
   "cell_type": "markdown",
   "metadata": {},
   "source": [
    "> * So initially we see the counts for each of the numerical data has the same which is 10866 so there isn't any missing data for those columns. \n",
    "* The minimum for budget, revenue, budget_adj, and revenue_adj is 0 which would probably indicate the data maybe was not available considering I don't think a movie could be made without funds or would not have garnered any revenue. These will be investigated.\n",
    "* The minimum for runtime is 0 as well which probably indicates an issue in data because movies have to have a runtime to exist. \n",
    "* The vote_average is logical because the scale is from 1-10 and the minimum and maximum are within those ranges with the mean being 5.975922 which is mostly centered. \n",
    "* The earliest release year is 1960 and latest is 2015 which is around when the dataset was created so that follows logic, with the mean release year being 2001. \n",
    "* The popularity rating seems skewed because the maximum is 32.985763 but the mean is 0.646441, so this will need further investigation. "
   ]
  },
  {
   "cell_type": "markdown",
   "metadata": {},
   "source": [
    "\n",
    "\n",
    "### Data Cleaning "
   ]
  },
  {
   "cell_type": "code",
   "execution_count": 5,
   "metadata": {},
   "outputs": [],
   "source": [
    "#dropped unnecessary columns\n",
    "df_movie.drop(['homepage','imdb_id','tagline','keywords','overview', 'production_companies',\n",
    "               'release_date', 'budget','revenue','cast', 'id'], axis=1, inplace=True)"
   ]
  },
  {
   "cell_type": "code",
   "execution_count": 6,
   "metadata": {},
   "outputs": [
    {
     "data": {
      "text/html": [
       "<div>\n",
       "<style scoped>\n",
       "    .dataframe tbody tr th:only-of-type {\n",
       "        vertical-align: middle;\n",
       "    }\n",
       "\n",
       "    .dataframe tbody tr th {\n",
       "        vertical-align: top;\n",
       "    }\n",
       "\n",
       "    .dataframe thead th {\n",
       "        text-align: right;\n",
       "    }\n",
       "</style>\n",
       "<table border=\"1\" class=\"dataframe\">\n",
       "  <thead>\n",
       "    <tr style=\"text-align: right;\">\n",
       "      <th></th>\n",
       "      <th>popularity</th>\n",
       "      <th>original_title</th>\n",
       "      <th>director</th>\n",
       "      <th>runtime</th>\n",
       "      <th>genres</th>\n",
       "      <th>vote_count</th>\n",
       "      <th>vote_average</th>\n",
       "      <th>release_year</th>\n",
       "      <th>budget_adj</th>\n",
       "      <th>revenue_adj</th>\n",
       "    </tr>\n",
       "  </thead>\n",
       "  <tbody>\n",
       "    <tr>\n",
       "      <th>0</th>\n",
       "      <td>32.985763</td>\n",
       "      <td>Jurassic World</td>\n",
       "      <td>Colin Trevorrow</td>\n",
       "      <td>124</td>\n",
       "      <td>Action|Adventure|Science Fiction|Thriller</td>\n",
       "      <td>5562</td>\n",
       "      <td>6.5</td>\n",
       "      <td>2015</td>\n",
       "      <td>137999939.3</td>\n",
       "      <td>1.392446e+09</td>\n",
       "    </tr>\n",
       "    <tr>\n",
       "      <th>1</th>\n",
       "      <td>28.419936</td>\n",
       "      <td>Mad Max: Fury Road</td>\n",
       "      <td>George Miller</td>\n",
       "      <td>120</td>\n",
       "      <td>Action|Adventure|Science Fiction|Thriller</td>\n",
       "      <td>6185</td>\n",
       "      <td>7.1</td>\n",
       "      <td>2015</td>\n",
       "      <td>137999939.3</td>\n",
       "      <td>3.481613e+08</td>\n",
       "    </tr>\n",
       "    <tr>\n",
       "      <th>2</th>\n",
       "      <td>13.112507</td>\n",
       "      <td>Insurgent</td>\n",
       "      <td>Robert Schwentke</td>\n",
       "      <td>119</td>\n",
       "      <td>Adventure|Science Fiction|Thriller</td>\n",
       "      <td>2480</td>\n",
       "      <td>6.3</td>\n",
       "      <td>2015</td>\n",
       "      <td>101199955.5</td>\n",
       "      <td>2.716190e+08</td>\n",
       "    </tr>\n",
       "    <tr>\n",
       "      <th>3</th>\n",
       "      <td>11.173104</td>\n",
       "      <td>Star Wars: The Force Awakens</td>\n",
       "      <td>J.J. Abrams</td>\n",
       "      <td>136</td>\n",
       "      <td>Action|Adventure|Science Fiction|Fantasy</td>\n",
       "      <td>5292</td>\n",
       "      <td>7.5</td>\n",
       "      <td>2015</td>\n",
       "      <td>183999919.0</td>\n",
       "      <td>1.902723e+09</td>\n",
       "    </tr>\n",
       "    <tr>\n",
       "      <th>4</th>\n",
       "      <td>9.335014</td>\n",
       "      <td>Furious 7</td>\n",
       "      <td>James Wan</td>\n",
       "      <td>137</td>\n",
       "      <td>Action|Crime|Thriller</td>\n",
       "      <td>2947</td>\n",
       "      <td>7.3</td>\n",
       "      <td>2015</td>\n",
       "      <td>174799923.1</td>\n",
       "      <td>1.385749e+09</td>\n",
       "    </tr>\n",
       "  </tbody>\n",
       "</table>\n",
       "</div>"
      ],
      "text/plain": [
       "   popularity                original_title          director  runtime  \\\n",
       "0   32.985763                Jurassic World   Colin Trevorrow      124   \n",
       "1   28.419936            Mad Max: Fury Road     George Miller      120   \n",
       "2   13.112507                     Insurgent  Robert Schwentke      119   \n",
       "3   11.173104  Star Wars: The Force Awakens       J.J. Abrams      136   \n",
       "4    9.335014                     Furious 7         James Wan      137   \n",
       "\n",
       "                                      genres  vote_count  vote_average  \\\n",
       "0  Action|Adventure|Science Fiction|Thriller        5562           6.5   \n",
       "1  Action|Adventure|Science Fiction|Thriller        6185           7.1   \n",
       "2         Adventure|Science Fiction|Thriller        2480           6.3   \n",
       "3   Action|Adventure|Science Fiction|Fantasy        5292           7.5   \n",
       "4                      Action|Crime|Thriller        2947           7.3   \n",
       "\n",
       "   release_year   budget_adj   revenue_adj  \n",
       "0          2015  137999939.3  1.392446e+09  \n",
       "1          2015  137999939.3  3.481613e+08  \n",
       "2          2015  101199955.5  2.716190e+08  \n",
       "3          2015  183999919.0  1.902723e+09  \n",
       "4          2015  174799923.1  1.385749e+09  "
      ]
     },
     "execution_count": 6,
     "metadata": {},
     "output_type": "execute_result"
    }
   ],
   "source": [
    "df_movie.head()"
   ]
  },
  {
   "cell_type": "markdown",
   "metadata": {},
   "source": [
    "* Got rid of the following columns: homepage, imdb_id, tagline, keywords, overview, production_companies, release_date, budget, revenue, cast\n",
    "* These lacked data in most rows and didnt seem relevant to the information trying to be obtained.\n",
    "* Also we have the release year so release date was tossed out and the adjusted revenue and budget based on inflation is included so the original values were not deemed useful for analysis."
   ]
  },
  {
   "cell_type": "code",
   "execution_count": 7,
   "metadata": {},
   "outputs": [
    {
     "data": {
      "text/plain": [
       "92           Mythica: The Necromancer\n",
       "334                           Ronaldo\n",
       "410                    Anarchy Parlor\n",
       "445     The Exorcism of Molly Hartley\n",
       "486                If There Be Thorns\n",
       "595                         Deep Dark\n",
       "616                      The Outfield\n",
       "1241                        Dance-Off\n",
       "1289                        Treehouse\n",
       "1293                         Tim Maia\n",
       "1849                     Spectacular!\n",
       "2315             Listen to Your Heart\n",
       "2370                  Freshman Father\n",
       "3329         Grande, grosso e Verdone\n",
       "3794             Toi, moi, les autres\n",
       "3857                         Cell 213\n",
       "3884                           eCupid\n",
       "4063           Madea's Family Reunion\n",
       "4138               A Time for Dancing\n",
       "4829                             Rags\n",
       "4944              How to Fall in Love\n",
       "5216            Madea's Class Reunion\n",
       "5695                 Skinwalker Ranch\n",
       "5920           The Food Guide to Love\n",
       "5938                      Go Goa Gone\n",
       "5992                 Amiche da morire\n",
       "6040            The Vatican Exorcisms\n",
       "6383         The 12 Dogs of Christmas\n",
       "6552                  Quatre Ã©toiles\n",
       "6934                    Jean-Philippe\n",
       "8874                  Mission Kashmir\n",
       "Name: original_title, dtype: object"
      ]
     },
     "execution_count": 7,
     "metadata": {},
     "output_type": "execute_result"
    }
   ],
   "source": [
    "#query to fing movies with 0 minute runtimes\n",
    "df_movie.query('runtime == 0')['original_title']"
   ]
  },
  {
   "cell_type": "markdown",
   "metadata": {},
   "source": [
    "> * Some of the titles are recognizable and because this is a userbased website where users contribute the data for these films, that is most likely the reason for 0 input for some of these titles. I could google search each runtime and enter it in manually but since it is such a small portion I'm going to just eliminate these rows most likely. "
   ]
  },
  {
   "cell_type": "code",
   "execution_count": 20,
   "metadata": {},
   "outputs": [
    {
     "data": {
      "text/plain": [
       "0"
      ]
     },
     "execution_count": 20,
     "metadata": {},
     "output_type": "execute_result"
    }
   ],
   "source": [
    "#query for $0 budget movies\n",
    "df_movie.query('budget_adj == 0')['original_title'].count()"
   ]
  },
  {
   "cell_type": "markdown",
   "metadata": {},
   "source": [
    "* A query for budget_adj equaling 0 was ran in order to see how many movies lacked budget info. Since this is a user-contributed site, that is most likely the reason for the lack of data and there are 5696 missing rows which would be impossible to fill manually. Also since a movie has to be funded somehow there is no point in analyzing a \"free\" movie. "
   ]
  },
  {
   "cell_type": "code",
   "execution_count": 11,
   "metadata": {
    "scrolled": true
   },
   "outputs": [
    {
     "name": "stdout",
     "output_type": "stream",
     "text": [
      "<class 'pandas.core.frame.DataFrame'>\n",
      "Int64Index: 3855 entries, 0 to 10848\n",
      "Data columns (total 10 columns):\n",
      "popularity        3855 non-null float64\n",
      "original_title    3855 non-null object\n",
      "director          3854 non-null object\n",
      "runtime           3855 non-null int64\n",
      "genres            3855 non-null object\n",
      "vote_count        3855 non-null int64\n",
      "vote_average      3855 non-null float64\n",
      "release_year      3855 non-null int64\n",
      "budget_adj        3855 non-null float64\n",
      "revenue_adj       3855 non-null float64\n",
      "dtypes: float64(4), int64(3), object(3)\n",
      "memory usage: 331.3+ KB\n"
     ]
    }
   ],
   "source": [
    "#query rows with $0 for budget and revenue\n",
    "df_movie3 = df_movie.query('revenue_adj != 0').query('budget_adj != 0')\n",
    "df_movie3.info()"
   ]
  },
  {
   "cell_type": "code",
   "execution_count": 18,
   "metadata": {},
   "outputs": [
    {
     "data": {
      "text/html": [
       "<div>\n",
       "<style scoped>\n",
       "    .dataframe tbody tr th:only-of-type {\n",
       "        vertical-align: middle;\n",
       "    }\n",
       "\n",
       "    .dataframe tbody tr th {\n",
       "        vertical-align: top;\n",
       "    }\n",
       "\n",
       "    .dataframe thead th {\n",
       "        text-align: right;\n",
       "    }\n",
       "</style>\n",
       "<table border=\"1\" class=\"dataframe\">\n",
       "  <thead>\n",
       "    <tr style=\"text-align: right;\">\n",
       "      <th></th>\n",
       "      <th>popularity</th>\n",
       "      <th>original_title</th>\n",
       "      <th>director</th>\n",
       "      <th>runtime</th>\n",
       "      <th>genres</th>\n",
       "      <th>vote_count</th>\n",
       "      <th>vote_average</th>\n",
       "      <th>release_year</th>\n",
       "      <th>budget_adj</th>\n",
       "      <th>revenue_adj</th>\n",
       "    </tr>\n",
       "  </thead>\n",
       "  <tbody>\n",
       "  </tbody>\n",
       "</table>\n",
       "</div>"
      ],
      "text/plain": [
       "Empty DataFrame\n",
       "Columns: [popularity, original_title, director, runtime, genres, vote_count, vote_average, release_year, budget_adj, revenue_adj]\n",
       "Index: []"
      ]
     },
     "execution_count": 18,
     "metadata": {},
     "output_type": "execute_result"
    }
   ],
   "source": [
    "#query rows with $0 for budget and revenue\n",
    "zero_fund = df_movie[(df_movie.revenue_adj == 0) | (df_movie.budget_adj == 0)]\n",
    "zero_fund"
   ]
  },
  {
   "cell_type": "markdown",
   "metadata": {},
   "source": [
    "* removed rows where adjusted budget and revenue was 0 because it was missing data which would skew the results"
   ]
  },
  {
   "cell_type": "code",
   "execution_count": 12,
   "metadata": {},
   "outputs": [],
   "source": [
    "#indexed the rows to be removed\n",
    "zero_fund_index = zero_fund.index"
   ]
  },
  {
   "cell_type": "code",
   "execution_count": 13,
   "metadata": {},
   "outputs": [],
   "source": [
    "#dropped $0 rows\n",
    "df_movie.drop(index = zero_fund_index, inplace = True)"
   ]
  },
  {
   "cell_type": "code",
   "execution_count": 14,
   "metadata": {},
   "outputs": [],
   "source": [
    "#reset the index\n",
    "df_movie.reset_index(inplace = True, drop = True)"
   ]
  },
  {
   "cell_type": "code",
   "execution_count": 19,
   "metadata": {},
   "outputs": [
    {
     "data": {
      "text/html": [
       "<div>\n",
       "<style scoped>\n",
       "    .dataframe tbody tr th:only-of-type {\n",
       "        vertical-align: middle;\n",
       "    }\n",
       "\n",
       "    .dataframe tbody tr th {\n",
       "        vertical-align: top;\n",
       "    }\n",
       "\n",
       "    .dataframe thead th {\n",
       "        text-align: right;\n",
       "    }\n",
       "</style>\n",
       "<table border=\"1\" class=\"dataframe\">\n",
       "  <thead>\n",
       "    <tr style=\"text-align: right;\">\n",
       "      <th></th>\n",
       "      <th>popularity</th>\n",
       "      <th>runtime</th>\n",
       "      <th>vote_count</th>\n",
       "      <th>vote_average</th>\n",
       "      <th>release_year</th>\n",
       "      <th>budget_adj</th>\n",
       "      <th>revenue_adj</th>\n",
       "    </tr>\n",
       "  </thead>\n",
       "  <tbody>\n",
       "    <tr>\n",
       "      <th>count</th>\n",
       "      <td>3855.00</td>\n",
       "      <td>3855.00</td>\n",
       "      <td>3855.00</td>\n",
       "      <td>3855.00</td>\n",
       "      <td>3855.00</td>\n",
       "      <td>3855.00</td>\n",
       "      <td>3855.00</td>\n",
       "    </tr>\n",
       "    <tr>\n",
       "      <th>mean</th>\n",
       "      <td>1.19</td>\n",
       "      <td>109.22</td>\n",
       "      <td>527.61</td>\n",
       "      <td>6.17</td>\n",
       "      <td>2001.26</td>\n",
       "      <td>44236299.18</td>\n",
       "      <td>137029386.10</td>\n",
       "    </tr>\n",
       "    <tr>\n",
       "      <th>std</th>\n",
       "      <td>1.48</td>\n",
       "      <td>19.92</td>\n",
       "      <td>879.87</td>\n",
       "      <td>0.80</td>\n",
       "      <td>11.28</td>\n",
       "      <td>44804027.33</td>\n",
       "      <td>216094430.04</td>\n",
       "    </tr>\n",
       "    <tr>\n",
       "      <th>min</th>\n",
       "      <td>0.00</td>\n",
       "      <td>15.00</td>\n",
       "      <td>10.00</td>\n",
       "      <td>2.20</td>\n",
       "      <td>1960.00</td>\n",
       "      <td>0.97</td>\n",
       "      <td>2.37</td>\n",
       "    </tr>\n",
       "    <tr>\n",
       "      <th>25%</th>\n",
       "      <td>0.46</td>\n",
       "      <td>95.00</td>\n",
       "      <td>71.00</td>\n",
       "      <td>5.70</td>\n",
       "      <td>1995.00</td>\n",
       "      <td>13090528.47</td>\n",
       "      <td>18341233.68</td>\n",
       "    </tr>\n",
       "    <tr>\n",
       "      <th>50%</th>\n",
       "      <td>0.80</td>\n",
       "      <td>106.00</td>\n",
       "      <td>204.00</td>\n",
       "      <td>6.20</td>\n",
       "      <td>2004.00</td>\n",
       "      <td>30015580.40</td>\n",
       "      <td>61718613.20</td>\n",
       "    </tr>\n",
       "    <tr>\n",
       "      <th>75%</th>\n",
       "      <td>1.37</td>\n",
       "      <td>119.00</td>\n",
       "      <td>580.00</td>\n",
       "      <td>6.70</td>\n",
       "      <td>2010.00</td>\n",
       "      <td>60613069.68</td>\n",
       "      <td>163240089.70</td>\n",
       "    </tr>\n",
       "    <tr>\n",
       "      <th>max</th>\n",
       "      <td>32.99</td>\n",
       "      <td>338.00</td>\n",
       "      <td>9767.00</td>\n",
       "      <td>8.40</td>\n",
       "      <td>2015.00</td>\n",
       "      <td>425000000.00</td>\n",
       "      <td>2827123750.00</td>\n",
       "    </tr>\n",
       "  </tbody>\n",
       "</table>\n",
       "</div>"
      ],
      "text/plain": [
       "       popularity  runtime  vote_count  vote_average  release_year  \\\n",
       "count     3855.00  3855.00     3855.00       3855.00       3855.00   \n",
       "mean         1.19   109.22      527.61          6.17       2001.26   \n",
       "std          1.48    19.92      879.87          0.80         11.28   \n",
       "min          0.00    15.00       10.00          2.20       1960.00   \n",
       "25%          0.46    95.00       71.00          5.70       1995.00   \n",
       "50%          0.80   106.00      204.00          6.20       2004.00   \n",
       "75%          1.37   119.00      580.00          6.70       2010.00   \n",
       "max         32.99   338.00     9767.00          8.40       2015.00   \n",
       "\n",
       "        budget_adj   revenue_adj  \n",
       "count      3855.00       3855.00  \n",
       "mean   44236299.18  137029386.10  \n",
       "std    44804027.33  216094430.04  \n",
       "min           0.97          2.37  \n",
       "25%    13090528.47   18341233.68  \n",
       "50%    30015580.40   61718613.20  \n",
       "75%    60613069.68  163240089.70  \n",
       "max   425000000.00 2827123750.00  "
      ]
     },
     "execution_count": 19,
     "metadata": {},
     "output_type": "execute_result"
    }
   ],
   "source": [
    "df_movie.describe()"
   ]
  },
  {
   "cell_type": "code",
   "execution_count": 23,
   "metadata": {},
   "outputs": [
    {
     "data": {
      "text/plain": [
       "0       Action\n",
       "1       Action\n",
       "2    Adventure\n",
       "3       Action\n",
       "4       Action\n",
       "Name: genres_2, dtype: object"
      ]
     },
     "execution_count": 23,
     "metadata": {},
     "output_type": "execute_result"
    }
   ],
   "source": [
    "#split genres for movies\n",
    "df_movie['genres_2'] = df_movie['genres'].str.split('|').str[0]\n",
    "df_movie['genres_2'].head()"
   ]
  },
  {
   "cell_type": "markdown",
   "metadata": {},
   "source": [
    "* Wanted to drop the multiple genres for films and choose the first one as the official genre for the movie, so a new column 'genres_2' was created"
   ]
  },
  {
   "cell_type": "code",
   "execution_count": 24,
   "metadata": {},
   "outputs": [],
   "source": [
    "#dropped genres column\n",
    "df_movie.drop(['genres'], axis=1, inplace=True)"
   ]
  },
  {
   "cell_type": "markdown",
   "metadata": {},
   "source": [
    "* Dropped the original genres because it was unnecessary for the analysis."
   ]
  },
  {
   "cell_type": "code",
   "execution_count": 25,
   "metadata": {},
   "outputs": [
    {
     "data": {
      "text/plain": [
       "Drama              890\n",
       "Comedy             787\n",
       "Action             689\n",
       "Adventure          314\n",
       "Horror             275\n",
       "Crime              172\n",
       "Thriller           160\n",
       "Fantasy            110\n",
       "Animation          103\n",
       "Science Fiction     98\n",
       "Romance             66\n",
       "Family              40\n",
       "Mystery             36\n",
       "Documentary         32\n",
       "Music               29\n",
       "War                 20\n",
       "History             17\n",
       "Western             16\n",
       "TV Movie             1\n",
       "Name: genres_2, dtype: int64"
      ]
     },
     "execution_count": 25,
     "metadata": {},
     "output_type": "execute_result"
    }
   ],
   "source": [
    "df_movie.genres_2.value_counts()"
   ]
  },
  {
   "cell_type": "markdown",
   "metadata": {},
   "source": [
    "* a more concise and workable categories for genres found and since there was only one type found under TV Movie, the row will be dropped"
   ]
  },
  {
   "cell_type": "code",
   "execution_count": 27,
   "metadata": {},
   "outputs": [
    {
     "data": {
      "text/html": [
       "<div>\n",
       "<style scoped>\n",
       "    .dataframe tbody tr th:only-of-type {\n",
       "        vertical-align: middle;\n",
       "    }\n",
       "\n",
       "    .dataframe tbody tr th {\n",
       "        vertical-align: top;\n",
       "    }\n",
       "\n",
       "    .dataframe thead th {\n",
       "        text-align: right;\n",
       "    }\n",
       "</style>\n",
       "<table border=\"1\" class=\"dataframe\">\n",
       "  <thead>\n",
       "    <tr style=\"text-align: right;\">\n",
       "      <th></th>\n",
       "      <th>popularity</th>\n",
       "      <th>original_title</th>\n",
       "      <th>director</th>\n",
       "      <th>runtime</th>\n",
       "      <th>vote_count</th>\n",
       "      <th>vote_average</th>\n",
       "      <th>release_year</th>\n",
       "      <th>budget_adj</th>\n",
       "      <th>revenue_adj</th>\n",
       "      <th>genres_2</th>\n",
       "    </tr>\n",
       "  </thead>\n",
       "  <tbody>\n",
       "    <tr>\n",
       "      <th>3085</th>\n",
       "      <td>0.27</td>\n",
       "      <td>Doctor Who</td>\n",
       "      <td>Geoffrey Sax</td>\n",
       "      <td>89</td>\n",
       "      <td>35</td>\n",
       "      <td>5.60</td>\n",
       "      <td>1996</td>\n",
       "      <td>6951083.70</td>\n",
       "      <td>58389103.04</td>\n",
       "      <td>TV Movie</td>\n",
       "    </tr>\n",
       "  </tbody>\n",
       "</table>\n",
       "</div>"
      ],
      "text/plain": [
       "      popularity original_title      director  runtime  vote_count  \\\n",
       "3085        0.27     Doctor Who  Geoffrey Sax       89          35   \n",
       "\n",
       "      vote_average  release_year  budget_adj  revenue_adj  genres_2  \n",
       "3085          5.60          1996  6951083.70  58389103.04  TV Movie  "
      ]
     },
     "execution_count": 27,
     "metadata": {},
     "output_type": "execute_result"
    }
   ],
   "source": [
    "#queried tv movie\n",
    "tv_movie = df_movie.query(\"genres_2 == 'TV Movie'\")\n",
    "tv_movie"
   ]
  },
  {
   "cell_type": "code",
   "execution_count": 28,
   "metadata": {},
   "outputs": [],
   "source": [
    "# index tv movie\n",
    "tv_movie_index = tv_movie.index"
   ]
  },
  {
   "cell_type": "code",
   "execution_count": 29,
   "metadata": {},
   "outputs": [],
   "source": [
    "#dropped tv movie\n",
    "df_movie.drop(index = tv_movie_index, inplace = True)"
   ]
  },
  {
   "cell_type": "code",
   "execution_count": 30,
   "metadata": {},
   "outputs": [],
   "source": [
    "# reset the index\n",
    "df_movie.reset_index(inplace = True, drop = True)"
   ]
  },
  {
   "cell_type": "code",
   "execution_count": 34,
   "metadata": {},
   "outputs": [
    {
     "data": {
      "text/plain": [
       "count   3854.00\n",
       "mean       6.17\n",
       "std        0.80\n",
       "min        2.20\n",
       "25%        5.70\n",
       "50%        6.20\n",
       "75%        6.70\n",
       "max        8.40\n",
       "Name: vote_average, dtype: float64"
      ]
     },
     "execution_count": 34,
     "metadata": {},
     "output_type": "execute_result"
    }
   ],
   "source": [
    "#found quartile ranges for vote_average\n",
    "df_movie.vote_average.describe()"
   ]
  },
  {
   "cell_type": "code",
   "execution_count": 35,
   "metadata": {},
   "outputs": [
    {
     "data": {
      "text/plain": [
       "count   3855.00\n",
       "mean       1.19\n",
       "std        1.48\n",
       "min        0.00\n",
       "25%        0.46\n",
       "50%        0.80\n",
       "75%        1.37\n",
       "max       32.99\n",
       "Name: popularity, dtype: float64"
      ]
     },
     "execution_count": 35,
     "metadata": {},
     "output_type": "execute_result"
    }
   ],
   "source": [
    "# found quartile ranges for popularity\n",
    "df_movie3.popularity.describe()"
   ]
  },
  {
   "cell_type": "code",
   "execution_count": 36,
   "metadata": {},
   "outputs": [],
   "source": [
    "# created bin edges for both variables\n",
    "be_votes = [2.2, 5.7, 6.2, 6.7, 8.4]\n",
    "be_pop = [0.001117, 0.463068, 0.797723, 1.368403, 32.985763]"
   ]
  },
  {
   "cell_type": "code",
   "execution_count": 37,
   "metadata": {},
   "outputs": [],
   "source": [
    "#created names for bins\n",
    "bin_names_votes = ['Low', 'Below Average', 'Above Average', 'High']\n",
    "bin_names_pop = ['Non Popular', 'Semi Popular', 'Popular', 'Very Popular']"
   ]
  },
  {
   "cell_type": "code",
   "execution_count": 42,
   "metadata": {},
   "outputs": [],
   "source": [
    "#created new variables with feature engineering \n",
    "df_movie['rating_level'] = pd.cut(df_movie['vote_average'], be_votes, labels=bin_names_votes)\n",
    "df_movie['pop_level'] = pd.cut(df_movie['popularity'], be_pop, labels=bin_names_pop)"
   ]
  },
  {
   "cell_type": "code",
   "execution_count": 43,
   "metadata": {},
   "outputs": [
    {
     "name": "stdout",
     "output_type": "stream",
     "text": [
      "<class 'pandas.core.frame.DataFrame'>\n",
      "RangeIndex: 3854 entries, 0 to 3853\n",
      "Data columns (total 12 columns):\n",
      "popularity        3854 non-null float64\n",
      "original_title    3854 non-null object\n",
      "director          3853 non-null object\n",
      "runtime           3854 non-null int64\n",
      "vote_count        3854 non-null int64\n",
      "vote_average      3854 non-null float64\n",
      "release_year      3854 non-null int64\n",
      "budget_adj        3854 non-null float64\n",
      "revenue_adj       3854 non-null float64\n",
      "genres_2          3854 non-null object\n",
      "rating_level      3853 non-null category\n",
      "pop_level         3853 non-null category\n",
      "dtypes: category(2), float64(4), int64(3), object(3)\n",
      "memory usage: 309.1+ KB\n"
     ]
    }
   ],
   "source": [
    "df_movie.info()"
   ]
  },
  {
   "cell_type": "code",
   "execution_count": 51,
   "metadata": {},
   "outputs": [],
   "source": [
    "df_movie[\"pop_level\"] = df_movie[\"pop_level\"].astype('object')\n",
    "df_movie[\"rating_level\"] = df_movie[\"rating_level\"].astype('object')"
   ]
  },
  {
   "cell_type": "markdown",
   "metadata": {},
   "source": [
    "* Changed new columns from type category to objects for easier use with labels on graphs for later. "
   ]
  },
  {
   "cell_type": "code",
   "execution_count": null,
   "metadata": {},
   "outputs": [],
   "source": [
    "df_movie.info()"
   ]
  },
  {
   "cell_type": "code",
   "execution_count": 44,
   "metadata": {},
   "outputs": [
    {
     "data": {
      "text/plain": [
       "popularity        0\n",
       "original_title    0\n",
       "director          1\n",
       "runtime           0\n",
       "vote_count        0\n",
       "vote_average      0\n",
       "release_year      0\n",
       "budget_adj        0\n",
       "revenue_adj       0\n",
       "genres_2          0\n",
       "rating_level      1\n",
       "pop_level         1\n",
       "dtype: int64"
      ]
     },
     "execution_count": 44,
     "metadata": {},
     "output_type": "execute_result"
    }
   ],
   "source": [
    "#found number of missing values\n",
    "df_movie.isnull().sum()"
   ]
  },
  {
   "cell_type": "code",
   "execution_count": 45,
   "metadata": {},
   "outputs": [],
   "source": [
    "# dropped rows with missing values\n",
    "df_movie.dropna(axis=0, inplace=True)"
   ]
  },
  {
   "cell_type": "code",
   "execution_count": 46,
   "metadata": {},
   "outputs": [
    {
     "name": "stdout",
     "output_type": "stream",
     "text": [
      "<class 'pandas.core.frame.DataFrame'>\n",
      "Int64Index: 3851 entries, 0 to 3853\n",
      "Data columns (total 12 columns):\n",
      "popularity        3851 non-null float64\n",
      "original_title    3851 non-null object\n",
      "director          3851 non-null object\n",
      "runtime           3851 non-null int64\n",
      "vote_count        3851 non-null int64\n",
      "vote_average      3851 non-null float64\n",
      "release_year      3851 non-null int64\n",
      "budget_adj        3851 non-null float64\n",
      "revenue_adj       3851 non-null float64\n",
      "genres_2          3851 non-null object\n",
      "rating_level      3851 non-null category\n",
      "pop_level         3851 non-null category\n",
      "dtypes: category(2), float64(4), int64(3), object(3)\n",
      "memory usage: 338.8+ KB\n"
     ]
    }
   ],
   "source": [
    "df_movie.info()"
   ]
  },
  {
   "cell_type": "markdown",
   "metadata": {},
   "source": [
    "* Found one NaN value in director column, one in the rating_level column, and one in the pop_level column. So these were removed and 3851 samples remain. "
   ]
  },
  {
   "cell_type": "code",
   "execution_count": 59,
   "metadata": {},
   "outputs": [],
   "source": [
    "#saved cleaned version of data for future analysis\n",
    "df_movie.to_csv('movie_clean.csv', index=False)"
   ]
  },
  {
   "cell_type": "markdown",
   "metadata": {},
   "source": [
    "<a id='eda'></a>\n",
    "## Exploratory Data Analysis\n",
    "\n"
   ]
  },
  {
   "cell_type": "markdown",
   "metadata": {},
   "source": [
    "### Is the popularity of the movie associated with higher revenues?"
   ]
  },
  {
   "cell_type": "code",
   "execution_count": 47,
   "metadata": {},
   "outputs": [
    {
     "data": {
      "image/png": "[encoded data removed]",
      "text/plain": [
       "<Figure size 360x360 with 1 Axes>"
      ]
     },
     "metadata": {
      "needs_background": "light"
     },
     "output_type": "display_data"
    }
   ],
   "source": [
    "sns.relplot(x=\"popularity\", y=\"revenue_adj\", data=df_movie);"
   ]
  },
  {
   "cell_type": "markdown",
   "metadata": {},
   "source": [
    "* A simple scatter plot can show a positive correlation between level of popularity and revenue.\n",
    "* A more appealing approach would be to categorize the levels of popularity based on the quartile levels of popularity. \n",
    "* Then a pie chart could visually see the variance in total revenue based on popularity. "
   ]
  },
  {
   "cell_type": "code",
   "execution_count": 48,
   "metadata": {},
   "outputs": [
    {
     "data": {
      "text/plain": [
       "pop_level\n",
       "Non Popular     38570728005.67\n",
       "Semi Popular    67016131184.17\n",
       "Popular        119790795154.33\n",
       "Very Popular   302796971378.84\n",
       "Name: revenue_adj, dtype: float64"
      ]
     },
     "execution_count": 48,
     "metadata": {},
     "output_type": "execute_result"
    }
   ],
   "source": [
    "tot_rev = df_movie.groupby('pop_level')['revenue_adj'].sum()\n",
    "tot_rev"
   ]
  },
  {
   "cell_type": "code",
   "execution_count": 52,
   "metadata": {},
   "outputs": [],
   "source": [
    "level_pops = df_movie.pop_level.unique()\n",
    "level_pops.sort()"
   ]
  },
  {
   "cell_type": "code",
   "execution_count": 53,
   "metadata": {},
   "outputs": [],
   "source": [
    "def pie_chart():\n",
    "    sns.set(context=\"notebook\")\n",
    "    plt.pie(tot_rev, labels=level_pops, autopct='%1.1f%%')\n",
    "    plt.legend(title=\"Popularity\",\n",
    "              loc=\"center right\",\n",
    "              bbox_to_anchor=(1.5, 0, 0.5, 1));"
   ]
  },
  {
   "cell_type": "markdown",
   "metadata": {},
   "source": [
    "### Which genres of movies have the higher revenues on average?"
   ]
  },
  {
   "cell_type": "code",
   "execution_count": 54,
   "metadata": {},
   "outputs": [
    {
     "data": {
      "text/html": [
       "<div>\n",
       "<style scoped>\n",
       "    .dataframe tbody tr th:only-of-type {\n",
       "        vertical-align: middle;\n",
       "    }\n",
       "\n",
       "    .dataframe tbody tr th {\n",
       "        vertical-align: top;\n",
       "    }\n",
       "\n",
       "    .dataframe thead th {\n",
       "        text-align: right;\n",
       "    }\n",
       "</style>\n",
       "<table border=\"1\" class=\"dataframe\">\n",
       "  <thead>\n",
       "    <tr style=\"text-align: right;\">\n",
       "      <th></th>\n",
       "      <th>count</th>\n",
       "      <th>mean</th>\n",
       "      <th>std</th>\n",
       "      <th>min</th>\n",
       "      <th>25%</th>\n",
       "      <th>50%</th>\n",
       "      <th>75%</th>\n",
       "      <th>max</th>\n",
       "    </tr>\n",
       "    <tr>\n",
       "      <th>genres_2</th>\n",
       "      <th></th>\n",
       "      <th></th>\n",
       "      <th></th>\n",
       "      <th></th>\n",
       "      <th></th>\n",
       "      <th></th>\n",
       "      <th></th>\n",
       "      <th></th>\n",
       "    </tr>\n",
       "  </thead>\n",
       "  <tbody>\n",
       "    <tr>\n",
       "      <th>Action</th>\n",
       "      <td>689.00</td>\n",
       "      <td>162652490.77</td>\n",
       "      <td>238155291.40</td>\n",
       "      <td>36.15</td>\n",
       "      <td>24525643.75</td>\n",
       "      <td>76971784.17</td>\n",
       "      <td>204565675.70</td>\n",
       "      <td>2827123750.00</td>\n",
       "    </tr>\n",
       "    <tr>\n",
       "      <th>Adventure</th>\n",
       "      <td>314.00</td>\n",
       "      <td>304158607.08</td>\n",
       "      <td>356612142.56</td>\n",
       "      <td>3.04</td>\n",
       "      <td>48201229.97</td>\n",
       "      <td>162925210.00</td>\n",
       "      <td>431249367.33</td>\n",
       "      <td>2789712242.00</td>\n",
       "    </tr>\n",
       "    <tr>\n",
       "      <th>Animation</th>\n",
       "      <td>102.00</td>\n",
       "      <td>298885225.35</td>\n",
       "      <td>272687882.06</td>\n",
       "      <td>296.34</td>\n",
       "      <td>71718330.36</td>\n",
       "      <td>232157080.05</td>\n",
       "      <td>457684700.57</td>\n",
       "      <td>1192711491.00</td>\n",
       "    </tr>\n",
       "    <tr>\n",
       "      <th>Comedy</th>\n",
       "      <td>787.00</td>\n",
       "      <td>100602242.56</td>\n",
       "      <td>129033268.39</td>\n",
       "      <td>13.85</td>\n",
       "      <td>18758732.25</td>\n",
       "      <td>52064317.63</td>\n",
       "      <td>134395473.80</td>\n",
       "      <td>997333314.60</td>\n",
       "    </tr>\n",
       "    <tr>\n",
       "      <th>Crime</th>\n",
       "      <td>172.00</td>\n",
       "      <td>97848279.52</td>\n",
       "      <td>152823563.06</td>\n",
       "      <td>7425.82</td>\n",
       "      <td>16221096.32</td>\n",
       "      <td>55533243.08</td>\n",
       "      <td>136264013.65</td>\n",
       "      <td>1583049536.00</td>\n",
       "    </tr>\n",
       "    <tr>\n",
       "      <th>Documentary</th>\n",
       "      <td>31.00</td>\n",
       "      <td>24262947.60</td>\n",
       "      <td>36017570.55</td>\n",
       "      <td>6310.01</td>\n",
       "      <td>1296047.33</td>\n",
       "      <td>7871522.00</td>\n",
       "      <td>31401849.16</td>\n",
       "      <td>137511206.20</td>\n",
       "    </tr>\n",
       "    <tr>\n",
       "      <th>Drama</th>\n",
       "      <td>889.00</td>\n",
       "      <td>91054048.57</td>\n",
       "      <td>172007006.62</td>\n",
       "      <td>2.37</td>\n",
       "      <td>8599127.19</td>\n",
       "      <td>34340989.57</td>\n",
       "      <td>104043744.30</td>\n",
       "      <td>2506405735.00</td>\n",
       "    </tr>\n",
       "    <tr>\n",
       "      <th>Family</th>\n",
       "      <td>40.00</td>\n",
       "      <td>272841110.58</td>\n",
       "      <td>338214767.93</td>\n",
       "      <td>19282544.51</td>\n",
       "      <td>47709714.13</td>\n",
       "      <td>120484869.20</td>\n",
       "      <td>327823007.90</td>\n",
       "      <td>1345551059.00</td>\n",
       "    </tr>\n",
       "    <tr>\n",
       "      <th>Fantasy</th>\n",
       "      <td>110.00</td>\n",
       "      <td>194329298.50</td>\n",
       "      <td>227296034.12</td>\n",
       "      <td>22.90</td>\n",
       "      <td>31998955.09</td>\n",
       "      <td>113808070.55</td>\n",
       "      <td>276861348.40</td>\n",
       "      <td>996125553.20</td>\n",
       "    </tr>\n",
       "    <tr>\n",
       "      <th>History</th>\n",
       "      <td>17.00</td>\n",
       "      <td>168066502.46</td>\n",
       "      <td>186939397.17</td>\n",
       "      <td>611839.14</td>\n",
       "      <td>31068172.42</td>\n",
       "      <td>111438799.00</td>\n",
       "      <td>215126072.50</td>\n",
       "      <td>608151066.30</td>\n",
       "    </tr>\n",
       "    <tr>\n",
       "      <th>Horror</th>\n",
       "      <td>275.00</td>\n",
       "      <td>78770877.60</td>\n",
       "      <td>138859623.49</td>\n",
       "      <td>6.95</td>\n",
       "      <td>19532228.37</td>\n",
       "      <td>48651435.15</td>\n",
       "      <td>92605105.97</td>\n",
       "      <td>1907005842.00</td>\n",
       "    </tr>\n",
       "    <tr>\n",
       "      <th>Music</th>\n",
       "      <td>29.00</td>\n",
       "      <td>128571826.73</td>\n",
       "      <td>150347101.05</td>\n",
       "      <td>114.20</td>\n",
       "      <td>20925325.39</td>\n",
       "      <td>66555084.73</td>\n",
       "      <td>145803733.70</td>\n",
       "      <td>607749015.30</td>\n",
       "    </tr>\n",
       "    <tr>\n",
       "      <th>Mystery</th>\n",
       "      <td>36.00</td>\n",
       "      <td>87489856.65</td>\n",
       "      <td>160048370.49</td>\n",
       "      <td>8631.16</td>\n",
       "      <td>16253830.03</td>\n",
       "      <td>40040572.67</td>\n",
       "      <td>73286609.15</td>\n",
       "      <td>880738991.70</td>\n",
       "    </tr>\n",
       "    <tr>\n",
       "      <th>Romance</th>\n",
       "      <td>66.00</td>\n",
       "      <td>124289554.42</td>\n",
       "      <td>157953387.13</td>\n",
       "      <td>2.86</td>\n",
       "      <td>10880163.17</td>\n",
       "      <td>73519143.65</td>\n",
       "      <td>152207077.03</td>\n",
       "      <td>772700024.20</td>\n",
       "    </tr>\n",
       "    <tr>\n",
       "      <th>Science Fiction</th>\n",
       "      <td>98.00</td>\n",
       "      <td>217170565.55</td>\n",
       "      <td>303967501.26</td>\n",
       "      <td>5.93</td>\n",
       "      <td>29246895.38</td>\n",
       "      <td>114202006.70</td>\n",
       "      <td>238264659.28</td>\n",
       "      <td>1791694309.00</td>\n",
       "    </tr>\n",
       "    <tr>\n",
       "      <th>Thriller</th>\n",
       "      <td>160.00</td>\n",
       "      <td>91090400.97</td>\n",
       "      <td>126990208.60</td>\n",
       "      <td>8.59</td>\n",
       "      <td>9970074.06</td>\n",
       "      <td>48889979.12</td>\n",
       "      <td>123341324.33</td>\n",
       "      <td>820164661.40</td>\n",
       "    </tr>\n",
       "    <tr>\n",
       "      <th>War</th>\n",
       "      <td>20.00</td>\n",
       "      <td>140577367.39</td>\n",
       "      <td>188963620.25</td>\n",
       "      <td>16944.11</td>\n",
       "      <td>22785553.69</td>\n",
       "      <td>66365050.45</td>\n",
       "      <td>155349962.82</td>\n",
       "      <td>598481289.50</td>\n",
       "    </tr>\n",
       "    <tr>\n",
       "      <th>Western</th>\n",
       "      <td>16.00</td>\n",
       "      <td>115803123.33</td>\n",
       "      <td>138976619.38</td>\n",
       "      <td>5753.80</td>\n",
       "      <td>30977861.19</td>\n",
       "      <td>65650724.94</td>\n",
       "      <td>130744409.60</td>\n",
       "      <td>490314247.00</td>\n",
       "    </tr>\n",
       "  </tbody>\n",
       "</table>\n",
       "</div>"
      ],
      "text/plain": [
       "                 count         mean          std         min         25%  \\\n",
       "genres_2                                                                   \n",
       "Action          689.00 162652490.77 238155291.40       36.15 24525643.75   \n",
       "Adventure       314.00 304158607.08 356612142.56        3.04 48201229.97   \n",
       "Animation       102.00 298885225.35 272687882.06      296.34 71718330.36   \n",
       "Comedy          787.00 100602242.56 129033268.39       13.85 18758732.25   \n",
       "Crime           172.00  97848279.52 152823563.06     7425.82 16221096.32   \n",
       "Documentary      31.00  24262947.60  36017570.55     6310.01  1296047.33   \n",
       "Drama           889.00  91054048.57 172007006.62        2.37  8599127.19   \n",
       "Family           40.00 272841110.58 338214767.93 19282544.51 47709714.13   \n",
       "Fantasy         110.00 194329298.50 227296034.12       22.90 31998955.09   \n",
       "History          17.00 168066502.46 186939397.17   611839.14 31068172.42   \n",
       "Horror          275.00  78770877.60 138859623.49        6.95 19532228.37   \n",
       "Music            29.00 128571826.73 150347101.05      114.20 20925325.39   \n",
       "Mystery          36.00  87489856.65 160048370.49     8631.16 16253830.03   \n",
       "Romance          66.00 124289554.42 157953387.13        2.86 10880163.17   \n",
       "Science Fiction  98.00 217170565.55 303967501.26        5.93 29246895.38   \n",
       "Thriller        160.00  91090400.97 126990208.60        8.59  9970074.06   \n",
       "War              20.00 140577367.39 188963620.25    16944.11 22785553.69   \n",
       "Western          16.00 115803123.33 138976619.38     5753.80 30977861.19   \n",
       "\n",
       "                         50%          75%           max  \n",
       "genres_2                                                 \n",
       "Action           76971784.17 204565675.70 2827123750.00  \n",
       "Adventure       162925210.00 431249367.33 2789712242.00  \n",
       "Animation       232157080.05 457684700.57 1192711491.00  \n",
       "Comedy           52064317.63 134395473.80  997333314.60  \n",
       "Crime            55533243.08 136264013.65 1583049536.00  \n",
       "Documentary       7871522.00  31401849.16  137511206.20  \n",
       "Drama            34340989.57 104043744.30 2506405735.00  \n",
       "Family          120484869.20 327823007.90 1345551059.00  \n",
       "Fantasy         113808070.55 276861348.40  996125553.20  \n",
       "History         111438799.00 215126072.50  608151066.30  \n",
       "Horror           48651435.15  92605105.97 1907005842.00  \n",
       "Music            66555084.73 145803733.70  607749015.30  \n",
       "Mystery          40040572.67  73286609.15  880738991.70  \n",
       "Romance          73519143.65 152207077.03  772700024.20  \n",
       "Science Fiction 114202006.70 238264659.28 1791694309.00  \n",
       "Thriller         48889979.12 123341324.33  820164661.40  \n",
       "War              66365050.45 155349962.82  598481289.50  \n",
       "Western          65650724.94 130744409.60  490314247.00  "
      ]
     },
     "execution_count": 54,
     "metadata": {},
     "output_type": "execute_result"
    }
   ],
   "source": [
    "df_movie.groupby('genres_2').revenue_adj.describe()\n"
   ]
  },
  {
   "cell_type": "markdown",
   "metadata": {},
   "source": [
    "* the describe function can give general statistics on each genre of film and in reference to revenue\n",
    "* Some boxplots of this data would be easier to see which genres fair better in terms of revenue. "
   ]
  },
  {
   "cell_type": "code",
   "execution_count": 55,
   "metadata": {},
   "outputs": [],
   "source": [
    "boxplot_data = df_movie.query('revenue_adj < 500000000')"
   ]
  },
  {
   "cell_type": "markdown",
   "metadata": {},
   "source": [
    "* A query for revenue less than $500,000,000 was chosen to show where most of the data is clustered to make the boxplots more visually appealing. "
   ]
  },
  {
   "cell_type": "code",
   "execution_count": 56,
   "metadata": {},
   "outputs": [],
   "source": [
    "def boxplot():\n",
    "    sns.set(style=\"ticks\", font_scale=1.75)\n",
    "    sns.catplot(x=\"genres_2\", y=\"revenue_adj\", kind=\"box\", height=10, aspect=2, data=boxplot_data)\n",
    "    plt.xlabel(\"Genres\")\n",
    "    plt.ylabel(\"Revenue in $100,000,000s\")\n",
    "    plt.xticks(rotation=45);"
   ]
  },
  {
   "cell_type": "code",
   "execution_count": 57,
   "metadata": {},
   "outputs": [
    {
     "data": {
      "image/png": "[encoded data removed]",
      "text/plain": [
       "<Figure size 432x288 with 1 Axes>"
      ]
     },
     "metadata": {},
     "output_type": "display_data"
    }
   ],
   "source": [
    "pie_chart()"
   ]
  },
  {
   "cell_type": "code",
   "execution_count": 58,
   "metadata": {},
   "outputs": [
    {
     "data": {
      "image/png": "[encoded data removed]",
      "text/plain": [
       "<Figure size 1440x720 with 1 Axes>"
      ]
     },
     "metadata": {},
     "output_type": "display_data"
    }
   ],
   "source": [
    "boxplot()"
   ]
  },
  {
   "cell_type": "markdown",
   "metadata": {},
   "source": [
    "<a id='conclusions'></a>\n",
    "## Conclusions\n",
    "\n",
    "\n",
    "> **Pie Chart**: \n",
    "* The total revenue divided among the popularity levels shows that more popular movies generate higher revenues. This is most likely because the popularity of a movie generates more \"hype\" which can create interest with more people willing to see a movie. \n",
    "* According to the TMDb website, the popularity rating is based on:\n",
    "     Number of votes for the day\n",
    "     Number of views for the day\n",
    "     Number of users who marked it as a \"favourite\" for the day\n",
    "     Number of users who added it to their \"watchlist\" for the day\n",
    "     Release date\n",
    "     Number of total votes\n",
    "     Previous days score\n",
    "* Therefore any correlation between revenue and popularity is independent of one another and does not directly contribute to the score. \n",
    "\n",
    "> **Box Plot**:\n",
    "* The boxplot shows that Animation has the overall highest sales of revenue between all the genres. \n",
    "* The median is significantly higher than the others which would indicate more data points in higher grossing revenue range. \n",
    "* Documentary had the lowest revenues along with Mystery.\n"
   ]
  },
  {
   "cell_type": "markdown",
   "metadata": {},
   "source": [
    "<a id='limitations'></a>\n",
    "## Limitations\n",
    "\n",
    "* There was a substantial amount of movie data excluded based on missing data values in the budget and revenue columns. \n",
    "* Certain movies had multiple genres listed under them but only the first one listed was used in this analysis. \n",
    "* The sample size for certain genres was limited which might affect the results. \n"
   ]
  }
 ],
 "metadata": {
  "kernelspec": {
   "display_name": "Python 3",
   "language": "python",
   "name": "python3"
  },
  "language_info": {
   "codemirror_mode": {
    "name": "ipython",
    "version": 3
   },
   "file_extension": ".py",
   "mimetype": "text/x-python",
   "name": "python",
   "nbconvert_exporter": "python",
   "pygments_lexer": "ipython3",
   "version": "3.7.3"
  }
 },
 "nbformat": 4,
 "nbformat_minor": 2
}
